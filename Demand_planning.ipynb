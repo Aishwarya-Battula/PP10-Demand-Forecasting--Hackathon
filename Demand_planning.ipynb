{
 "cells": [
  {
   "cell_type": "code",
   "execution_count": 1,
   "id": "3b18bfda",
   "metadata": {},
   "outputs": [],
   "source": [
    "#Importing the necessary libraries\n",
    "import pandas as pd\n",
    "import numpy as np\n",
    "import matplotlib.pyplot as plt\n",
    "%matplotlib inline \n",
    "import seaborn as sns"
   ]
  },
  {
   "cell_type": "code",
   "execution_count": 2,
   "id": "d072bfc3",
   "metadata": {},
   "outputs": [
    {
     "data": {
      "text/html": [
       "<div>\n",
       "<style scoped>\n",
       "    .dataframe tbody tr th:only-of-type {\n",
       "        vertical-align: middle;\n",
       "    }\n",
       "\n",
       "    .dataframe tbody tr th {\n",
       "        vertical-align: top;\n",
       "    }\n",
       "\n",
       "    .dataframe thead th {\n",
       "        text-align: right;\n",
       "    }\n",
       "</style>\n",
       "<table border=\"1\" class=\"dataframe\">\n",
       "  <thead>\n",
       "    <tr style=\"text-align: right;\">\n",
       "      <th></th>\n",
       "      <th>ID</th>\n",
       "      <th>date</th>\n",
       "      <th>warehouse_ID</th>\n",
       "      <th>Latitude</th>\n",
       "      <th>Longitude</th>\n",
       "      <th>Product_Type</th>\n",
       "      <th>year</th>\n",
       "      <th>month</th>\n",
       "      <th>is_weekend</th>\n",
       "      <th>is_warehouse_closed</th>\n",
       "      <th>daily_dispatch_count</th>\n",
       "      <th>weekly_dispatch_count</th>\n",
       "    </tr>\n",
       "  </thead>\n",
       "  <tbody>\n",
       "    <tr>\n",
       "      <th>0</th>\n",
       "      <td>0x2710</td>\n",
       "      <td>2017-01-01</td>\n",
       "      <td>WH_0x3e9</td>\n",
       "      <td>41.681471</td>\n",
       "      <td>-72.794746</td>\n",
       "      <td>Type_A</td>\n",
       "      <td>2017</td>\n",
       "      <td>January</td>\n",
       "      <td>Yes</td>\n",
       "      <td>No</td>\n",
       "      <td>5.5</td>\n",
       "      <td>5.5</td>\n",
       "    </tr>\n",
       "    <tr>\n",
       "      <th>1</th>\n",
       "      <td>0x33e6</td>\n",
       "      <td>2017-01-01</td>\n",
       "      <td>WH_0x3ea</td>\n",
       "      <td>38.749077</td>\n",
       "      <td>-105.183060</td>\n",
       "      <td>Type_A</td>\n",
       "      <td>2017</td>\n",
       "      <td>January</td>\n",
       "      <td>Yes</td>\n",
       "      <td>No</td>\n",
       "      <td>6.1</td>\n",
       "      <td>6.1</td>\n",
       "    </tr>\n",
       "    <tr>\n",
       "      <th>2</th>\n",
       "      <td>0x2711</td>\n",
       "      <td>2017-01-02</td>\n",
       "      <td>WH_0x3e9</td>\n",
       "      <td>41.681471</td>\n",
       "      <td>-72.794746</td>\n",
       "      <td>Type_A</td>\n",
       "      <td>2017</td>\n",
       "      <td>January</td>\n",
       "      <td>No</td>\n",
       "      <td>No</td>\n",
       "      <td>4.8</td>\n",
       "      <td>NaN</td>\n",
       "    </tr>\n",
       "    <tr>\n",
       "      <th>3</th>\n",
       "      <td>0x33e7</td>\n",
       "      <td>2017-01-02</td>\n",
       "      <td>WH_0x3ea</td>\n",
       "      <td>38.749077</td>\n",
       "      <td>-105.183060</td>\n",
       "      <td>Type_A</td>\n",
       "      <td>2017</td>\n",
       "      <td>January</td>\n",
       "      <td>No</td>\n",
       "      <td>No</td>\n",
       "      <td>6.7</td>\n",
       "      <td>NaN</td>\n",
       "    </tr>\n",
       "    <tr>\n",
       "      <th>4</th>\n",
       "      <td>0x2712</td>\n",
       "      <td>2017-01-03</td>\n",
       "      <td>WH_0x3e9</td>\n",
       "      <td>41.681471</td>\n",
       "      <td>-72.794746</td>\n",
       "      <td>Type_A</td>\n",
       "      <td>2017</td>\n",
       "      <td>January</td>\n",
       "      <td>No</td>\n",
       "      <td>No</td>\n",
       "      <td>5.8</td>\n",
       "      <td>NaN</td>\n",
       "    </tr>\n",
       "  </tbody>\n",
       "</table>\n",
       "</div>"
      ],
      "text/plain": [
       "       ID        date warehouse_ID   Latitude   Longitude Product_Type  year  \\\n",
       "0  0x2710  2017-01-01     WH_0x3e9  41.681471  -72.794746       Type_A  2017   \n",
       "1  0x33e6  2017-01-01     WH_0x3ea  38.749077 -105.183060       Type_A  2017   \n",
       "2  0x2711  2017-01-02     WH_0x3e9  41.681471  -72.794746       Type_A  2017   \n",
       "3  0x33e7  2017-01-02     WH_0x3ea  38.749077 -105.183060       Type_A  2017   \n",
       "4  0x2712  2017-01-03     WH_0x3e9  41.681471  -72.794746       Type_A  2017   \n",
       "\n",
       "     month is_weekend is_warehouse_closed  daily_dispatch_count  \\\n",
       "0  January        Yes                  No                   5.5   \n",
       "1  January        Yes                  No                   6.1   \n",
       "2  January         No                  No                   4.8   \n",
       "3  January         No                  No                   6.7   \n",
       "4  January         No                  No                   5.8   \n",
       "\n",
       "   weekly_dispatch_count  \n",
       "0                    5.5  \n",
       "1                    6.1  \n",
       "2                    NaN  \n",
       "3                    NaN  \n",
       "4                    NaN  "
      ]
     },
     "execution_count": 2,
     "metadata": {},
     "output_type": "execute_result"
    }
   ],
   "source": [
    "#Reading the train dataset\n",
    "train_df=pd.read_csv(\"train.csv\")\n",
    "train_df.head()"
   ]
  },
  {
   "cell_type": "code",
   "execution_count": 3,
   "id": "2a306f8e",
   "metadata": {},
   "outputs": [
    {
     "name": "stdout",
     "output_type": "stream",
     "text": [
      "<class 'pandas.core.frame.DataFrame'>\n",
      "RangeIndex: 16644 entries, 0 to 16643\n",
      "Data columns (total 12 columns):\n",
      " #   Column                 Non-Null Count  Dtype  \n",
      "---  ------                 --------------  -----  \n",
      " 0   ID                     16644 non-null  object \n",
      " 1   date                   16644 non-null  object \n",
      " 2   warehouse_ID           16644 non-null  object \n",
      " 3   Latitude               16312 non-null  float64\n",
      " 4   Longitude              16228 non-null  float64\n",
      " 5   Product_Type           16644 non-null  object \n",
      " 6   year                   16644 non-null  int64  \n",
      " 7   month                  16644 non-null  object \n",
      " 8   is_weekend             16145 non-null  object \n",
      " 9   is_warehouse_closed    16478 non-null  object \n",
      " 10  daily_dispatch_count   16644 non-null  float64\n",
      " 11  weekly_dispatch_count  2372 non-null   float64\n",
      "dtypes: float64(4), int64(1), object(7)\n",
      "memory usage: 1.5+ MB\n"
     ]
    }
   ],
   "source": [
    "train_df.info()"
   ]
  },
  {
   "cell_type": "code",
   "execution_count": 4,
   "id": "fad844d0",
   "metadata": {},
   "outputs": [
    {
     "data": {
      "text/plain": [
       "ID                           0\n",
       "date                         0\n",
       "warehouse_ID                 0\n",
       "Latitude                   332\n",
       "Longitude                  416\n",
       "Product_Type                 0\n",
       "year                         0\n",
       "month                        0\n",
       "is_weekend                 499\n",
       "is_warehouse_closed        166\n",
       "daily_dispatch_count         0\n",
       "weekly_dispatch_count    14272\n",
       "dtype: int64"
      ]
     },
     "execution_count": 4,
     "metadata": {},
     "output_type": "execute_result"
    }
   ],
   "source": [
    "#Check whether there are missing values in the train data\n",
    "\n",
    "train_df.isnull().sum()"
   ]
  },
  {
   "cell_type": "code",
   "execution_count": 5,
   "id": "dba90fad",
   "metadata": {},
   "outputs": [
    {
     "data": {
      "text/html": [
       "<div>\n",
       "<style scoped>\n",
       "    .dataframe tbody tr th:only-of-type {\n",
       "        vertical-align: middle;\n",
       "    }\n",
       "\n",
       "    .dataframe tbody tr th {\n",
       "        vertical-align: top;\n",
       "    }\n",
       "\n",
       "    .dataframe thead th {\n",
       "        text-align: right;\n",
       "    }\n",
       "</style>\n",
       "<table border=\"1\" class=\"dataframe\">\n",
       "  <thead>\n",
       "    <tr style=\"text-align: right;\">\n",
       "      <th></th>\n",
       "      <th>ID</th>\n",
       "      <th>date</th>\n",
       "      <th>warehouse_ID</th>\n",
       "      <th>Latitude</th>\n",
       "      <th>Longitude</th>\n",
       "      <th>Product_Type</th>\n",
       "      <th>year</th>\n",
       "      <th>month</th>\n",
       "      <th>is_weekend</th>\n",
       "      <th>is_warehouse_closed</th>\n",
       "      <th>daily_dispatch_count</th>\n",
       "      <th>weekly_dispatch_count</th>\n",
       "    </tr>\n",
       "  </thead>\n",
       "  <tbody>\n",
       "    <tr>\n",
       "      <th>0</th>\n",
       "      <td>0x2710</td>\n",
       "      <td>2017-01-01</td>\n",
       "      <td>WH_0x3e9</td>\n",
       "      <td>41.681471</td>\n",
       "      <td>-72.794746</td>\n",
       "      <td>Type_A</td>\n",
       "      <td>2017</td>\n",
       "      <td>January</td>\n",
       "      <td>Yes</td>\n",
       "      <td>No</td>\n",
       "      <td>5.5</td>\n",
       "      <td>5.5</td>\n",
       "    </tr>\n",
       "    <tr>\n",
       "      <th>1</th>\n",
       "      <td>0x33e6</td>\n",
       "      <td>2017-01-01</td>\n",
       "      <td>WH_0x3ea</td>\n",
       "      <td>38.749077</td>\n",
       "      <td>-105.183060</td>\n",
       "      <td>Type_A</td>\n",
       "      <td>2017</td>\n",
       "      <td>January</td>\n",
       "      <td>Yes</td>\n",
       "      <td>No</td>\n",
       "      <td>6.1</td>\n",
       "      <td>6.1</td>\n",
       "    </tr>\n",
       "    <tr>\n",
       "      <th>14</th>\n",
       "      <td>0x2717</td>\n",
       "      <td>2017-01-08</td>\n",
       "      <td>WH_0x3e9</td>\n",
       "      <td>41.681471</td>\n",
       "      <td>-72.794746</td>\n",
       "      <td>Type_A</td>\n",
       "      <td>2017</td>\n",
       "      <td>January</td>\n",
       "      <td>Yes</td>\n",
       "      <td>No</td>\n",
       "      <td>4.5</td>\n",
       "      <td>37.1</td>\n",
       "    </tr>\n",
       "    <tr>\n",
       "      <th>15</th>\n",
       "      <td>0x33ed</td>\n",
       "      <td>2017-01-08</td>\n",
       "      <td>WH_0x3ea</td>\n",
       "      <td>38.749077</td>\n",
       "      <td>-105.183060</td>\n",
       "      <td>Type_A</td>\n",
       "      <td>2017</td>\n",
       "      <td>January</td>\n",
       "      <td>Yes</td>\n",
       "      <td>No</td>\n",
       "      <td>6.5</td>\n",
       "      <td>48.3</td>\n",
       "    </tr>\n",
       "    <tr>\n",
       "      <th>28</th>\n",
       "      <td>0x271e</td>\n",
       "      <td>2017-01-15</td>\n",
       "      <td>WH_0x3e9</td>\n",
       "      <td>41.681471</td>\n",
       "      <td>-72.794746</td>\n",
       "      <td>Type_A</td>\n",
       "      <td>2017</td>\n",
       "      <td>January</td>\n",
       "      <td>Yes</td>\n",
       "      <td>No</td>\n",
       "      <td>4.6</td>\n",
       "      <td>37.5</td>\n",
       "    </tr>\n",
       "  </tbody>\n",
       "</table>\n",
       "</div>"
      ],
      "text/plain": [
       "        ID        date warehouse_ID   Latitude   Longitude Product_Type  year  \\\n",
       "0   0x2710  2017-01-01     WH_0x3e9  41.681471  -72.794746       Type_A  2017   \n",
       "1   0x33e6  2017-01-01     WH_0x3ea  38.749077 -105.183060       Type_A  2017   \n",
       "14  0x2717  2017-01-08     WH_0x3e9  41.681471  -72.794746       Type_A  2017   \n",
       "15  0x33ed  2017-01-08     WH_0x3ea  38.749077 -105.183060       Type_A  2017   \n",
       "28  0x271e  2017-01-15     WH_0x3e9  41.681471  -72.794746       Type_A  2017   \n",
       "\n",
       "      month is_weekend is_warehouse_closed  daily_dispatch_count  \\\n",
       "0   January        Yes                  No                   5.5   \n",
       "1   January        Yes                  No                   6.1   \n",
       "14  January        Yes                  No                   4.5   \n",
       "15  January        Yes                  No                   6.5   \n",
       "28  January        Yes                  No                   4.6   \n",
       "\n",
       "    weekly_dispatch_count  \n",
       "0                     5.5  \n",
       "1                     6.1  \n",
       "14                   37.1  \n",
       "15                   48.3  \n",
       "28                   37.5  "
      ]
     },
     "execution_count": 5,
     "metadata": {},
     "output_type": "execute_result"
    }
   ],
   "source": [
    "#We observe that tarin data has empty values in the weekly_dispatch_count\n",
    "train_df1=train_df[train_df['weekly_dispatch_count'].notnull()]\n",
    "train_df1.head()"
   ]
  },
  {
   "cell_type": "code",
   "execution_count": 6,
   "id": "0c03c9c6",
   "metadata": {},
   "outputs": [
    {
     "data": {
      "text/plain": [
       "(2372, 12)"
      ]
     },
     "execution_count": 6,
     "metadata": {},
     "output_type": "execute_result"
    }
   ],
   "source": [
    "train_df1.shape"
   ]
  },
  {
   "cell_type": "code",
   "execution_count": 7,
   "id": "acacb3f7",
   "metadata": {},
   "outputs": [],
   "source": [
    "#Split the train data to preduct weekly_dispatch_count for the rows missing weekly dispatch counts\n",
    "test_df1=train_df[train_df['weekly_dispatch_count'].isnull()]"
   ]
  },
  {
   "cell_type": "code",
   "execution_count": 8,
   "id": "e81c6696",
   "metadata": {},
   "outputs": [
    {
     "data": {
      "text/plain": [
       "(14272, 12)"
      ]
     },
     "execution_count": 8,
     "metadata": {},
     "output_type": "execute_result"
    }
   ],
   "source": [
    "test_df1.shape"
   ]
  },
  {
   "cell_type": "code",
   "execution_count": 9,
   "id": "d00cbd3c",
   "metadata": {},
   "outputs": [
    {
     "data": {
      "text/html": [
       "<div>\n",
       "<style scoped>\n",
       "    .dataframe tbody tr th:only-of-type {\n",
       "        vertical-align: middle;\n",
       "    }\n",
       "\n",
       "    .dataframe tbody tr th {\n",
       "        vertical-align: top;\n",
       "    }\n",
       "\n",
       "    .dataframe thead th {\n",
       "        text-align: right;\n",
       "    }\n",
       "</style>\n",
       "<table border=\"1\" class=\"dataframe\">\n",
       "  <thead>\n",
       "    <tr style=\"text-align: right;\">\n",
       "      <th></th>\n",
       "      <th>ID</th>\n",
       "      <th>date</th>\n",
       "      <th>warehouse_ID</th>\n",
       "      <th>Latitude</th>\n",
       "      <th>Longitude</th>\n",
       "      <th>Product_Type</th>\n",
       "      <th>year</th>\n",
       "      <th>month</th>\n",
       "      <th>is_weekend</th>\n",
       "      <th>is_warehouse_closed</th>\n",
       "    </tr>\n",
       "  </thead>\n",
       "  <tbody>\n",
       "    <tr>\n",
       "      <th>0</th>\n",
       "      <td>0x31fc</td>\n",
       "      <td>2021-05-01</td>\n",
       "      <td>WH_0x3e9</td>\n",
       "      <td>41.681471</td>\n",
       "      <td>NaN</td>\n",
       "      <td>Type_A</td>\n",
       "      <td>2021</td>\n",
       "      <td>May</td>\n",
       "      <td>NaN</td>\n",
       "      <td>No</td>\n",
       "    </tr>\n",
       "    <tr>\n",
       "      <th>1</th>\n",
       "      <td>0x31fd</td>\n",
       "      <td>2021-05-01</td>\n",
       "      <td>WH_0x3e9</td>\n",
       "      <td>41.681471</td>\n",
       "      <td>NaN</td>\n",
       "      <td>Type_B</td>\n",
       "      <td>2021</td>\n",
       "      <td>May</td>\n",
       "      <td>Yes</td>\n",
       "      <td>No</td>\n",
       "    </tr>\n",
       "    <tr>\n",
       "      <th>2</th>\n",
       "      <td>0x3ed2</td>\n",
       "      <td>2021-05-01</td>\n",
       "      <td>WH_0x3ea</td>\n",
       "      <td>38.749077</td>\n",
       "      <td>-105.183060</td>\n",
       "      <td>Type_A</td>\n",
       "      <td>2021</td>\n",
       "      <td>May</td>\n",
       "      <td>Yes</td>\n",
       "      <td>No</td>\n",
       "    </tr>\n",
       "    <tr>\n",
       "      <th>3</th>\n",
       "      <td>0x3ed3</td>\n",
       "      <td>2021-05-01</td>\n",
       "      <td>WH_0x3ea</td>\n",
       "      <td>38.749077</td>\n",
       "      <td>-105.183060</td>\n",
       "      <td>Type_B</td>\n",
       "      <td>2021</td>\n",
       "      <td>May</td>\n",
       "      <td>Yes</td>\n",
       "      <td>No</td>\n",
       "    </tr>\n",
       "    <tr>\n",
       "      <th>4</th>\n",
       "      <td>0x4a3a</td>\n",
       "      <td>2021-05-01</td>\n",
       "      <td>WH_0x3eb</td>\n",
       "      <td>35.678970</td>\n",
       "      <td>-109.067413</td>\n",
       "      <td>Type_A</td>\n",
       "      <td>2021</td>\n",
       "      <td>May</td>\n",
       "      <td>Yes</td>\n",
       "      <td>Yes</td>\n",
       "    </tr>\n",
       "  </tbody>\n",
       "</table>\n",
       "</div>"
      ],
      "text/plain": [
       "       ID        date warehouse_ID   Latitude   Longitude Product_Type  year  \\\n",
       "0  0x31fc  2021-05-01     WH_0x3e9  41.681471         NaN       Type_A  2021   \n",
       "1  0x31fd  2021-05-01     WH_0x3e9  41.681471         NaN       Type_B  2021   \n",
       "2  0x3ed2  2021-05-01     WH_0x3ea  38.749077 -105.183060       Type_A  2021   \n",
       "3  0x3ed3  2021-05-01     WH_0x3ea  38.749077 -105.183060       Type_B  2021   \n",
       "4  0x4a3a  2021-05-01     WH_0x3eb  35.678970 -109.067413       Type_A  2021   \n",
       "\n",
       "  month is_weekend is_warehouse_closed  \n",
       "0   May        NaN                  No  \n",
       "1   May        Yes                  No  \n",
       "2   May        Yes                  No  \n",
       "3   May        Yes                  No  \n",
       "4   May        Yes                 Yes  "
      ]
     },
     "execution_count": 9,
     "metadata": {},
     "output_type": "execute_result"
    }
   ],
   "source": [
    "#Reading the test dataset\n",
    "test_df=pd.read_csv(\"test.csv\")\n",
    "test_df.head()"
   ]
  },
  {
   "cell_type": "code",
   "execution_count": 10,
   "id": "7c517c9a",
   "metadata": {},
   "outputs": [
    {
     "data": {
      "text/plain": [
       "(4900, 10)"
      ]
     },
     "execution_count": 10,
     "metadata": {},
     "output_type": "execute_result"
    }
   ],
   "source": [
    "test_df.shape"
   ]
  },
  {
   "cell_type": "code",
   "execution_count": 11,
   "id": "770ff3c3",
   "metadata": {},
   "outputs": [
    {
     "data": {
      "text/plain": [
       "(16644, 12)"
      ]
     },
     "execution_count": 11,
     "metadata": {},
     "output_type": "execute_result"
    }
   ],
   "source": [
    "train_df.shape"
   ]
  },
  {
   "cell_type": "code",
   "execution_count": 12,
   "id": "6be67cf5",
   "metadata": {},
   "outputs": [],
   "source": [
    "final_df=pd.concat([train_df,test_df],axis=0)"
   ]
  },
  {
   "cell_type": "code",
   "execution_count": 13,
   "id": "dc0dabef",
   "metadata": {},
   "outputs": [
    {
     "data": {
      "text/plain": [
       "(21544, 12)"
      ]
     },
     "execution_count": 13,
     "metadata": {},
     "output_type": "execute_result"
    }
   ],
   "source": [
    "final_df.shape"
   ]
  },
  {
   "cell_type": "code",
   "execution_count": 14,
   "id": "afe6ddb3",
   "metadata": {},
   "outputs": [
    {
     "data": {
      "text/html": [
       "<div>\n",
       "<style scoped>\n",
       "    .dataframe tbody tr th:only-of-type {\n",
       "        vertical-align: middle;\n",
       "    }\n",
       "\n",
       "    .dataframe tbody tr th {\n",
       "        vertical-align: top;\n",
       "    }\n",
       "\n",
       "    .dataframe thead th {\n",
       "        text-align: right;\n",
       "    }\n",
       "</style>\n",
       "<table border=\"1\" class=\"dataframe\">\n",
       "  <thead>\n",
       "    <tr style=\"text-align: right;\">\n",
       "      <th></th>\n",
       "      <th>ID</th>\n",
       "      <th>date</th>\n",
       "      <th>warehouse_ID</th>\n",
       "      <th>Latitude</th>\n",
       "      <th>Longitude</th>\n",
       "      <th>Product_Type</th>\n",
       "      <th>year</th>\n",
       "      <th>month</th>\n",
       "      <th>is_weekend</th>\n",
       "      <th>is_warehouse_closed</th>\n",
       "      <th>daily_dispatch_count</th>\n",
       "      <th>weekly_dispatch_count</th>\n",
       "    </tr>\n",
       "  </thead>\n",
       "  <tbody>\n",
       "    <tr>\n",
       "      <th>0</th>\n",
       "      <td>0x2710</td>\n",
       "      <td>2017-01-01</td>\n",
       "      <td>WH_0x3e9</td>\n",
       "      <td>41.681471</td>\n",
       "      <td>-72.794746</td>\n",
       "      <td>Type_A</td>\n",
       "      <td>2017</td>\n",
       "      <td>January</td>\n",
       "      <td>Yes</td>\n",
       "      <td>No</td>\n",
       "      <td>5.5</td>\n",
       "      <td>5.5</td>\n",
       "    </tr>\n",
       "    <tr>\n",
       "      <th>1</th>\n",
       "      <td>0x33e6</td>\n",
       "      <td>2017-01-01</td>\n",
       "      <td>WH_0x3ea</td>\n",
       "      <td>38.749077</td>\n",
       "      <td>-105.183060</td>\n",
       "      <td>Type_A</td>\n",
       "      <td>2017</td>\n",
       "      <td>January</td>\n",
       "      <td>Yes</td>\n",
       "      <td>No</td>\n",
       "      <td>6.1</td>\n",
       "      <td>6.1</td>\n",
       "    </tr>\n",
       "    <tr>\n",
       "      <th>2</th>\n",
       "      <td>0x2711</td>\n",
       "      <td>2017-01-02</td>\n",
       "      <td>WH_0x3e9</td>\n",
       "      <td>41.681471</td>\n",
       "      <td>-72.794746</td>\n",
       "      <td>Type_A</td>\n",
       "      <td>2017</td>\n",
       "      <td>January</td>\n",
       "      <td>No</td>\n",
       "      <td>No</td>\n",
       "      <td>4.8</td>\n",
       "      <td>NaN</td>\n",
       "    </tr>\n",
       "    <tr>\n",
       "      <th>3</th>\n",
       "      <td>0x33e7</td>\n",
       "      <td>2017-01-02</td>\n",
       "      <td>WH_0x3ea</td>\n",
       "      <td>38.749077</td>\n",
       "      <td>-105.183060</td>\n",
       "      <td>Type_A</td>\n",
       "      <td>2017</td>\n",
       "      <td>January</td>\n",
       "      <td>No</td>\n",
       "      <td>No</td>\n",
       "      <td>6.7</td>\n",
       "      <td>NaN</td>\n",
       "    </tr>\n",
       "    <tr>\n",
       "      <th>4</th>\n",
       "      <td>0x2712</td>\n",
       "      <td>2017-01-03</td>\n",
       "      <td>WH_0x3e9</td>\n",
       "      <td>41.681471</td>\n",
       "      <td>-72.794746</td>\n",
       "      <td>Type_A</td>\n",
       "      <td>2017</td>\n",
       "      <td>January</td>\n",
       "      <td>No</td>\n",
       "      <td>No</td>\n",
       "      <td>5.8</td>\n",
       "      <td>NaN</td>\n",
       "    </tr>\n",
       "  </tbody>\n",
       "</table>\n",
       "</div>"
      ],
      "text/plain": [
       "       ID        date warehouse_ID   Latitude   Longitude Product_Type  year  \\\n",
       "0  0x2710  2017-01-01     WH_0x3e9  41.681471  -72.794746       Type_A  2017   \n",
       "1  0x33e6  2017-01-01     WH_0x3ea  38.749077 -105.183060       Type_A  2017   \n",
       "2  0x2711  2017-01-02     WH_0x3e9  41.681471  -72.794746       Type_A  2017   \n",
       "3  0x33e7  2017-01-02     WH_0x3ea  38.749077 -105.183060       Type_A  2017   \n",
       "4  0x2712  2017-01-03     WH_0x3e9  41.681471  -72.794746       Type_A  2017   \n",
       "\n",
       "     month is_weekend is_warehouse_closed  daily_dispatch_count  \\\n",
       "0  January        Yes                  No                   5.5   \n",
       "1  January        Yes                  No                   6.1   \n",
       "2  January         No                  No                   4.8   \n",
       "3  January         No                  No                   6.7   \n",
       "4  January         No                  No                   5.8   \n",
       "\n",
       "   weekly_dispatch_count  \n",
       "0                    5.5  \n",
       "1                    6.1  \n",
       "2                    NaN  \n",
       "3                    NaN  \n",
       "4                    NaN  "
      ]
     },
     "execution_count": 14,
     "metadata": {},
     "output_type": "execute_result"
    }
   ],
   "source": [
    "final_df.head()"
   ]
  },
  {
   "cell_type": "code",
   "execution_count": 15,
   "id": "9b13940a",
   "metadata": {},
   "outputs": [
    {
     "data": {
      "text/plain": [
       "0      2017-01-01\n",
       "1      2017-01-01\n",
       "2      2017-01-02\n",
       "3      2017-01-02\n",
       "4      2017-01-03\n",
       "          ...    \n",
       "4895   2021-12-31\n",
       "4896   2021-12-31\n",
       "4897   2021-12-31\n",
       "4898   2021-12-31\n",
       "4899   2021-12-31\n",
       "Name: date, Length: 21544, dtype: datetime64[ns]"
      ]
     },
     "execution_count": 15,
     "metadata": {},
     "output_type": "execute_result"
    }
   ],
   "source": [
    "pd.to_datetime(final_df['date'])"
   ]
  },
  {
   "cell_type": "code",
   "execution_count": 16,
   "id": "6efc4864",
   "metadata": {},
   "outputs": [
    {
     "data": {
      "text/plain": [
       "array(['Type_A', 'Type_B'], dtype=object)"
      ]
     },
     "execution_count": 16,
     "metadata": {},
     "output_type": "execute_result"
    }
   ],
   "source": [
    "final_df['Product_Type'].unique()"
   ]
  },
  {
   "cell_type": "code",
   "execution_count": 17,
   "id": "c6b4f64a",
   "metadata": {},
   "outputs": [
    {
     "data": {
      "text/html": [
       "<div>\n",
       "<style scoped>\n",
       "    .dataframe tbody tr th:only-of-type {\n",
       "        vertical-align: middle;\n",
       "    }\n",
       "\n",
       "    .dataframe tbody tr th {\n",
       "        vertical-align: top;\n",
       "    }\n",
       "\n",
       "    .dataframe thead th {\n",
       "        text-align: right;\n",
       "    }\n",
       "</style>\n",
       "<table border=\"1\" class=\"dataframe\">\n",
       "  <thead>\n",
       "    <tr style=\"text-align: right;\">\n",
       "      <th></th>\n",
       "      <th>ID</th>\n",
       "      <th>date</th>\n",
       "      <th>warehouse_ID</th>\n",
       "      <th>Latitude</th>\n",
       "      <th>Longitude</th>\n",
       "      <th>Product_Type</th>\n",
       "      <th>year</th>\n",
       "      <th>month</th>\n",
       "      <th>is_weekend</th>\n",
       "      <th>is_warehouse_closed</th>\n",
       "      <th>daily_dispatch_count</th>\n",
       "      <th>weekly_dispatch_count</th>\n",
       "    </tr>\n",
       "  </thead>\n",
       "  <tbody>\n",
       "    <tr>\n",
       "      <th>0</th>\n",
       "      <td>0x2710</td>\n",
       "      <td>2017-01-01</td>\n",
       "      <td>WH_0x3e9</td>\n",
       "      <td>41.681471</td>\n",
       "      <td>-72.794746</td>\n",
       "      <td>1</td>\n",
       "      <td>2017</td>\n",
       "      <td>January</td>\n",
       "      <td>Yes</td>\n",
       "      <td>No</td>\n",
       "      <td>5.5</td>\n",
       "      <td>5.5</td>\n",
       "    </tr>\n",
       "    <tr>\n",
       "      <th>1</th>\n",
       "      <td>0x33e6</td>\n",
       "      <td>2017-01-01</td>\n",
       "      <td>WH_0x3ea</td>\n",
       "      <td>38.749077</td>\n",
       "      <td>-105.183060</td>\n",
       "      <td>1</td>\n",
       "      <td>2017</td>\n",
       "      <td>January</td>\n",
       "      <td>Yes</td>\n",
       "      <td>No</td>\n",
       "      <td>6.1</td>\n",
       "      <td>6.1</td>\n",
       "    </tr>\n",
       "    <tr>\n",
       "      <th>2</th>\n",
       "      <td>0x2711</td>\n",
       "      <td>2017-01-02</td>\n",
       "      <td>WH_0x3e9</td>\n",
       "      <td>41.681471</td>\n",
       "      <td>-72.794746</td>\n",
       "      <td>1</td>\n",
       "      <td>2017</td>\n",
       "      <td>January</td>\n",
       "      <td>No</td>\n",
       "      <td>No</td>\n",
       "      <td>4.8</td>\n",
       "      <td>NaN</td>\n",
       "    </tr>\n",
       "    <tr>\n",
       "      <th>3</th>\n",
       "      <td>0x33e7</td>\n",
       "      <td>2017-01-02</td>\n",
       "      <td>WH_0x3ea</td>\n",
       "      <td>38.749077</td>\n",
       "      <td>-105.183060</td>\n",
       "      <td>1</td>\n",
       "      <td>2017</td>\n",
       "      <td>January</td>\n",
       "      <td>No</td>\n",
       "      <td>No</td>\n",
       "      <td>6.7</td>\n",
       "      <td>NaN</td>\n",
       "    </tr>\n",
       "    <tr>\n",
       "      <th>4</th>\n",
       "      <td>0x2712</td>\n",
       "      <td>2017-01-03</td>\n",
       "      <td>WH_0x3e9</td>\n",
       "      <td>41.681471</td>\n",
       "      <td>-72.794746</td>\n",
       "      <td>1</td>\n",
       "      <td>2017</td>\n",
       "      <td>January</td>\n",
       "      <td>No</td>\n",
       "      <td>No</td>\n",
       "      <td>5.8</td>\n",
       "      <td>NaN</td>\n",
       "    </tr>\n",
       "  </tbody>\n",
       "</table>\n",
       "</div>"
      ],
      "text/plain": [
       "       ID        date warehouse_ID   Latitude   Longitude  Product_Type  year  \\\n",
       "0  0x2710  2017-01-01     WH_0x3e9  41.681471  -72.794746             1  2017   \n",
       "1  0x33e6  2017-01-01     WH_0x3ea  38.749077 -105.183060             1  2017   \n",
       "2  0x2711  2017-01-02     WH_0x3e9  41.681471  -72.794746             1  2017   \n",
       "3  0x33e7  2017-01-02     WH_0x3ea  38.749077 -105.183060             1  2017   \n",
       "4  0x2712  2017-01-03     WH_0x3e9  41.681471  -72.794746             1  2017   \n",
       "\n",
       "     month is_weekend is_warehouse_closed  daily_dispatch_count  \\\n",
       "0  January        Yes                  No                   5.5   \n",
       "1  January        Yes                  No                   6.1   \n",
       "2  January         No                  No                   4.8   \n",
       "3  January         No                  No                   6.7   \n",
       "4  January         No                  No                   5.8   \n",
       "\n",
       "   weekly_dispatch_count  \n",
       "0                    5.5  \n",
       "1                    6.1  \n",
       "2                    NaN  \n",
       "3                    NaN  \n",
       "4                    NaN  "
      ]
     },
     "execution_count": 17,
     "metadata": {},
     "output_type": "execute_result"
    }
   ],
   "source": [
    "#Label encoding on Product Type field\n",
    "final_df['Product_Type']=final_df['Product_Type'].map({'Type_A':1,'Type_B':2})\n",
    "final_df.head()"
   ]
  },
  {
   "cell_type": "code",
   "execution_count": 18,
   "id": "f1266b4b",
   "metadata": {},
   "outputs": [
    {
     "data": {
      "text/html": [
       "<div>\n",
       "<style scoped>\n",
       "    .dataframe tbody tr th:only-of-type {\n",
       "        vertical-align: middle;\n",
       "    }\n",
       "\n",
       "    .dataframe tbody tr th {\n",
       "        vertical-align: top;\n",
       "    }\n",
       "\n",
       "    .dataframe thead th {\n",
       "        text-align: right;\n",
       "    }\n",
       "</style>\n",
       "<table border=\"1\" class=\"dataframe\">\n",
       "  <thead>\n",
       "    <tr style=\"text-align: right;\">\n",
       "      <th></th>\n",
       "      <th>ID</th>\n",
       "      <th>date</th>\n",
       "      <th>warehouse_ID</th>\n",
       "      <th>Latitude</th>\n",
       "      <th>Longitude</th>\n",
       "      <th>Product_Type</th>\n",
       "      <th>year</th>\n",
       "      <th>month</th>\n",
       "      <th>is_weekend</th>\n",
       "      <th>is_warehouse_closed</th>\n",
       "      <th>daily_dispatch_count</th>\n",
       "      <th>weekly_dispatch_count</th>\n",
       "    </tr>\n",
       "  </thead>\n",
       "  <tbody>\n",
       "    <tr>\n",
       "      <th>0</th>\n",
       "      <td>0x2710</td>\n",
       "      <td>2017-01-01</td>\n",
       "      <td>WH_0x3e9</td>\n",
       "      <td>41.681471</td>\n",
       "      <td>-72.794746</td>\n",
       "      <td>1</td>\n",
       "      <td>2017</td>\n",
       "      <td>1</td>\n",
       "      <td>Yes</td>\n",
       "      <td>No</td>\n",
       "      <td>5.5</td>\n",
       "      <td>5.5</td>\n",
       "    </tr>\n",
       "    <tr>\n",
       "      <th>1</th>\n",
       "      <td>0x33e6</td>\n",
       "      <td>2017-01-01</td>\n",
       "      <td>WH_0x3ea</td>\n",
       "      <td>38.749077</td>\n",
       "      <td>-105.183060</td>\n",
       "      <td>1</td>\n",
       "      <td>2017</td>\n",
       "      <td>1</td>\n",
       "      <td>Yes</td>\n",
       "      <td>No</td>\n",
       "      <td>6.1</td>\n",
       "      <td>6.1</td>\n",
       "    </tr>\n",
       "    <tr>\n",
       "      <th>2</th>\n",
       "      <td>0x2711</td>\n",
       "      <td>2017-01-02</td>\n",
       "      <td>WH_0x3e9</td>\n",
       "      <td>41.681471</td>\n",
       "      <td>-72.794746</td>\n",
       "      <td>1</td>\n",
       "      <td>2017</td>\n",
       "      <td>1</td>\n",
       "      <td>No</td>\n",
       "      <td>No</td>\n",
       "      <td>4.8</td>\n",
       "      <td>NaN</td>\n",
       "    </tr>\n",
       "    <tr>\n",
       "      <th>3</th>\n",
       "      <td>0x33e7</td>\n",
       "      <td>2017-01-02</td>\n",
       "      <td>WH_0x3ea</td>\n",
       "      <td>38.749077</td>\n",
       "      <td>-105.183060</td>\n",
       "      <td>1</td>\n",
       "      <td>2017</td>\n",
       "      <td>1</td>\n",
       "      <td>No</td>\n",
       "      <td>No</td>\n",
       "      <td>6.7</td>\n",
       "      <td>NaN</td>\n",
       "    </tr>\n",
       "    <tr>\n",
       "      <th>4</th>\n",
       "      <td>0x2712</td>\n",
       "      <td>2017-01-03</td>\n",
       "      <td>WH_0x3e9</td>\n",
       "      <td>41.681471</td>\n",
       "      <td>-72.794746</td>\n",
       "      <td>1</td>\n",
       "      <td>2017</td>\n",
       "      <td>1</td>\n",
       "      <td>No</td>\n",
       "      <td>No</td>\n",
       "      <td>5.8</td>\n",
       "      <td>NaN</td>\n",
       "    </tr>\n",
       "  </tbody>\n",
       "</table>\n",
       "</div>"
      ],
      "text/plain": [
       "       ID        date warehouse_ID   Latitude   Longitude  Product_Type  year  \\\n",
       "0  0x2710  2017-01-01     WH_0x3e9  41.681471  -72.794746             1  2017   \n",
       "1  0x33e6  2017-01-01     WH_0x3ea  38.749077 -105.183060             1  2017   \n",
       "2  0x2711  2017-01-02     WH_0x3e9  41.681471  -72.794746             1  2017   \n",
       "3  0x33e7  2017-01-02     WH_0x3ea  38.749077 -105.183060             1  2017   \n",
       "4  0x2712  2017-01-03     WH_0x3e9  41.681471  -72.794746             1  2017   \n",
       "\n",
       "   month is_weekend is_warehouse_closed  daily_dispatch_count  \\\n",
       "0      1        Yes                  No                   5.5   \n",
       "1      1        Yes                  No                   6.1   \n",
       "2      1         No                  No                   4.8   \n",
       "3      1         No                  No                   6.7   \n",
       "4      1         No                  No                   5.8   \n",
       "\n",
       "   weekly_dispatch_count  \n",
       "0                    5.5  \n",
       "1                    6.1  \n",
       "2                    NaN  \n",
       "3                    NaN  \n",
       "4                    NaN  "
      ]
     },
     "execution_count": 18,
     "metadata": {},
     "output_type": "execute_result"
    }
   ],
   "source": [
    "final_df['month']=final_df['month'].map({'January':1,'February':2,'March':3,'April':4,'May':5,'June':6,'July':7,'August':8,'September':9,'October':10,'November':11,'December':12})\n",
    "final_df.head()"
   ]
  },
  {
   "cell_type": "code",
   "execution_count": 19,
   "id": "fad34f39",
   "metadata": {},
   "outputs": [
    {
     "data": {
      "text/html": [
       "<div>\n",
       "<style scoped>\n",
       "    .dataframe tbody tr th:only-of-type {\n",
       "        vertical-align: middle;\n",
       "    }\n",
       "\n",
       "    .dataframe tbody tr th {\n",
       "        vertical-align: top;\n",
       "    }\n",
       "\n",
       "    .dataframe thead th {\n",
       "        text-align: right;\n",
       "    }\n",
       "</style>\n",
       "<table border=\"1\" class=\"dataframe\">\n",
       "  <thead>\n",
       "    <tr style=\"text-align: right;\">\n",
       "      <th></th>\n",
       "      <th>ID</th>\n",
       "      <th>date</th>\n",
       "      <th>warehouse_ID</th>\n",
       "      <th>Latitude</th>\n",
       "      <th>Longitude</th>\n",
       "      <th>Product_Type</th>\n",
       "      <th>year</th>\n",
       "      <th>month</th>\n",
       "      <th>is_weekend</th>\n",
       "      <th>is_warehouse_closed</th>\n",
       "      <th>daily_dispatch_count</th>\n",
       "      <th>weekly_dispatch_count</th>\n",
       "    </tr>\n",
       "  </thead>\n",
       "  <tbody>\n",
       "    <tr>\n",
       "      <th>0</th>\n",
       "      <td>0x2710</td>\n",
       "      <td>2017-01-01</td>\n",
       "      <td>WH_0x3e9</td>\n",
       "      <td>41.681471</td>\n",
       "      <td>-72.794746</td>\n",
       "      <td>1</td>\n",
       "      <td>2017</td>\n",
       "      <td>1</td>\n",
       "      <td>1.0</td>\n",
       "      <td>0.0</td>\n",
       "      <td>5.5</td>\n",
       "      <td>5.5</td>\n",
       "    </tr>\n",
       "    <tr>\n",
       "      <th>1</th>\n",
       "      <td>0x33e6</td>\n",
       "      <td>2017-01-01</td>\n",
       "      <td>WH_0x3ea</td>\n",
       "      <td>38.749077</td>\n",
       "      <td>-105.183060</td>\n",
       "      <td>1</td>\n",
       "      <td>2017</td>\n",
       "      <td>1</td>\n",
       "      <td>1.0</td>\n",
       "      <td>0.0</td>\n",
       "      <td>6.1</td>\n",
       "      <td>6.1</td>\n",
       "    </tr>\n",
       "    <tr>\n",
       "      <th>2</th>\n",
       "      <td>0x2711</td>\n",
       "      <td>2017-01-02</td>\n",
       "      <td>WH_0x3e9</td>\n",
       "      <td>41.681471</td>\n",
       "      <td>-72.794746</td>\n",
       "      <td>1</td>\n",
       "      <td>2017</td>\n",
       "      <td>1</td>\n",
       "      <td>0.0</td>\n",
       "      <td>0.0</td>\n",
       "      <td>4.8</td>\n",
       "      <td>NaN</td>\n",
       "    </tr>\n",
       "    <tr>\n",
       "      <th>3</th>\n",
       "      <td>0x33e7</td>\n",
       "      <td>2017-01-02</td>\n",
       "      <td>WH_0x3ea</td>\n",
       "      <td>38.749077</td>\n",
       "      <td>-105.183060</td>\n",
       "      <td>1</td>\n",
       "      <td>2017</td>\n",
       "      <td>1</td>\n",
       "      <td>0.0</td>\n",
       "      <td>0.0</td>\n",
       "      <td>6.7</td>\n",
       "      <td>NaN</td>\n",
       "    </tr>\n",
       "    <tr>\n",
       "      <th>4</th>\n",
       "      <td>0x2712</td>\n",
       "      <td>2017-01-03</td>\n",
       "      <td>WH_0x3e9</td>\n",
       "      <td>41.681471</td>\n",
       "      <td>-72.794746</td>\n",
       "      <td>1</td>\n",
       "      <td>2017</td>\n",
       "      <td>1</td>\n",
       "      <td>0.0</td>\n",
       "      <td>0.0</td>\n",
       "      <td>5.8</td>\n",
       "      <td>NaN</td>\n",
       "    </tr>\n",
       "  </tbody>\n",
       "</table>\n",
       "</div>"
      ],
      "text/plain": [
       "       ID        date warehouse_ID   Latitude   Longitude  Product_Type  year  \\\n",
       "0  0x2710  2017-01-01     WH_0x3e9  41.681471  -72.794746             1  2017   \n",
       "1  0x33e6  2017-01-01     WH_0x3ea  38.749077 -105.183060             1  2017   \n",
       "2  0x2711  2017-01-02     WH_0x3e9  41.681471  -72.794746             1  2017   \n",
       "3  0x33e7  2017-01-02     WH_0x3ea  38.749077 -105.183060             1  2017   \n",
       "4  0x2712  2017-01-03     WH_0x3e9  41.681471  -72.794746             1  2017   \n",
       "\n",
       "   month  is_weekend  is_warehouse_closed  daily_dispatch_count  \\\n",
       "0      1         1.0                  0.0                   5.5   \n",
       "1      1         1.0                  0.0                   6.1   \n",
       "2      1         0.0                  0.0                   4.8   \n",
       "3      1         0.0                  0.0                   6.7   \n",
       "4      1         0.0                  0.0                   5.8   \n",
       "\n",
       "   weekly_dispatch_count  \n",
       "0                    5.5  \n",
       "1                    6.1  \n",
       "2                    NaN  \n",
       "3                    NaN  \n",
       "4                    NaN  "
      ]
     },
     "execution_count": 19,
     "metadata": {},
     "output_type": "execute_result"
    }
   ],
   "source": [
    "final_df['is_weekend']=final_df['is_weekend'].map({'Yes':1,'No':0})\n",
    "final_df['is_warehouse_closed']=final_df['is_warehouse_closed'].map({'Yes':1,'No':0})\n",
    "final_df.head()"
   ]
  },
  {
   "cell_type": "code",
   "execution_count": 20,
   "id": "457fd44d",
   "metadata": {},
   "outputs": [
    {
     "data": {
      "text/html": [
       "<div>\n",
       "<style scoped>\n",
       "    .dataframe tbody tr th:only-of-type {\n",
       "        vertical-align: middle;\n",
       "    }\n",
       "\n",
       "    .dataframe tbody tr th {\n",
       "        vertical-align: top;\n",
       "    }\n",
       "\n",
       "    .dataframe thead th {\n",
       "        text-align: right;\n",
       "    }\n",
       "</style>\n",
       "<table border=\"1\" class=\"dataframe\">\n",
       "  <thead>\n",
       "    <tr style=\"text-align: right;\">\n",
       "      <th></th>\n",
       "      <th>ID</th>\n",
       "      <th>date</th>\n",
       "      <th>warehouse_ID</th>\n",
       "      <th>Latitude</th>\n",
       "      <th>Longitude</th>\n",
       "      <th>Product_Type</th>\n",
       "      <th>year</th>\n",
       "      <th>month</th>\n",
       "      <th>is_weekend</th>\n",
       "      <th>is_warehouse_closed</th>\n",
       "      <th>daily_dispatch_count</th>\n",
       "      <th>weekly_dispatch_count</th>\n",
       "    </tr>\n",
       "  </thead>\n",
       "  <tbody>\n",
       "    <tr>\n",
       "      <th>0</th>\n",
       "      <td>0x2710</td>\n",
       "      <td>2017-01-01</td>\n",
       "      <td>WH_0x3e9</td>\n",
       "      <td>41.681471</td>\n",
       "      <td>-72.794746</td>\n",
       "      <td>1</td>\n",
       "      <td>2017</td>\n",
       "      <td>1</td>\n",
       "      <td>1.0</td>\n",
       "      <td>0.0</td>\n",
       "      <td>5.5</td>\n",
       "      <td>5.5</td>\n",
       "    </tr>\n",
       "    <tr>\n",
       "      <th>1</th>\n",
       "      <td>0x33e6</td>\n",
       "      <td>2017-01-01</td>\n",
       "      <td>WH_0x3ea</td>\n",
       "      <td>38.749077</td>\n",
       "      <td>-105.183060</td>\n",
       "      <td>1</td>\n",
       "      <td>2017</td>\n",
       "      <td>1</td>\n",
       "      <td>1.0</td>\n",
       "      <td>0.0</td>\n",
       "      <td>6.1</td>\n",
       "      <td>6.1</td>\n",
       "    </tr>\n",
       "    <tr>\n",
       "      <th>14</th>\n",
       "      <td>0x2717</td>\n",
       "      <td>2017-01-08</td>\n",
       "      <td>WH_0x3e9</td>\n",
       "      <td>41.681471</td>\n",
       "      <td>-72.794746</td>\n",
       "      <td>1</td>\n",
       "      <td>2017</td>\n",
       "      <td>1</td>\n",
       "      <td>1.0</td>\n",
       "      <td>0.0</td>\n",
       "      <td>4.5</td>\n",
       "      <td>37.1</td>\n",
       "    </tr>\n",
       "    <tr>\n",
       "      <th>15</th>\n",
       "      <td>0x33ed</td>\n",
       "      <td>2017-01-08</td>\n",
       "      <td>WH_0x3ea</td>\n",
       "      <td>38.749077</td>\n",
       "      <td>-105.183060</td>\n",
       "      <td>1</td>\n",
       "      <td>2017</td>\n",
       "      <td>1</td>\n",
       "      <td>1.0</td>\n",
       "      <td>0.0</td>\n",
       "      <td>6.5</td>\n",
       "      <td>48.3</td>\n",
       "    </tr>\n",
       "    <tr>\n",
       "      <th>28</th>\n",
       "      <td>0x271e</td>\n",
       "      <td>2017-01-15</td>\n",
       "      <td>WH_0x3e9</td>\n",
       "      <td>41.681471</td>\n",
       "      <td>-72.794746</td>\n",
       "      <td>1</td>\n",
       "      <td>2017</td>\n",
       "      <td>1</td>\n",
       "      <td>1.0</td>\n",
       "      <td>0.0</td>\n",
       "      <td>4.6</td>\n",
       "      <td>37.5</td>\n",
       "    </tr>\n",
       "  </tbody>\n",
       "</table>\n",
       "</div>"
      ],
      "text/plain": [
       "        ID        date warehouse_ID   Latitude   Longitude  Product_Type  \\\n",
       "0   0x2710  2017-01-01     WH_0x3e9  41.681471  -72.794746             1   \n",
       "1   0x33e6  2017-01-01     WH_0x3ea  38.749077 -105.183060             1   \n",
       "14  0x2717  2017-01-08     WH_0x3e9  41.681471  -72.794746             1   \n",
       "15  0x33ed  2017-01-08     WH_0x3ea  38.749077 -105.183060             1   \n",
       "28  0x271e  2017-01-15     WH_0x3e9  41.681471  -72.794746             1   \n",
       "\n",
       "    year  month  is_weekend  is_warehouse_closed  daily_dispatch_count  \\\n",
       "0   2017      1         1.0                  0.0                   5.5   \n",
       "1   2017      1         1.0                  0.0                   6.1   \n",
       "14  2017      1         1.0                  0.0                   4.5   \n",
       "15  2017      1         1.0                  0.0                   6.5   \n",
       "28  2017      1         1.0                  0.0                   4.6   \n",
       "\n",
       "    weekly_dispatch_count  \n",
       "0                     5.5  \n",
       "1                     6.1  \n",
       "14                   37.1  \n",
       "15                   48.3  \n",
       "28                   37.5  "
      ]
     },
     "execution_count": 20,
     "metadata": {},
     "output_type": "execute_result"
    }
   ],
   "source": [
    "train_df1=final_df[final_df['ID'].isin(train_df1['ID'])]\n",
    "train_df1.head()"
   ]
  },
  {
   "cell_type": "code",
   "execution_count": 21,
   "id": "49343ad5",
   "metadata": {},
   "outputs": [
    {
     "data": {
      "text/html": [
       "<div>\n",
       "<style scoped>\n",
       "    .dataframe tbody tr th:only-of-type {\n",
       "        vertical-align: middle;\n",
       "    }\n",
       "\n",
       "    .dataframe tbody tr th {\n",
       "        vertical-align: top;\n",
       "    }\n",
       "\n",
       "    .dataframe thead th {\n",
       "        text-align: right;\n",
       "    }\n",
       "</style>\n",
       "<table border=\"1\" class=\"dataframe\">\n",
       "  <thead>\n",
       "    <tr style=\"text-align: right;\">\n",
       "      <th></th>\n",
       "      <th>ID</th>\n",
       "      <th>date</th>\n",
       "      <th>warehouse_ID</th>\n",
       "      <th>Latitude</th>\n",
       "      <th>Longitude</th>\n",
       "      <th>Product_Type</th>\n",
       "      <th>year</th>\n",
       "      <th>month</th>\n",
       "      <th>is_weekend</th>\n",
       "      <th>is_warehouse_closed</th>\n",
       "      <th>daily_dispatch_count</th>\n",
       "      <th>weekly_dispatch_count</th>\n",
       "    </tr>\n",
       "  </thead>\n",
       "  <tbody>\n",
       "    <tr>\n",
       "      <th>2</th>\n",
       "      <td>0x2711</td>\n",
       "      <td>2017-01-02</td>\n",
       "      <td>WH_0x3e9</td>\n",
       "      <td>41.681471</td>\n",
       "      <td>-72.794746</td>\n",
       "      <td>1</td>\n",
       "      <td>2017</td>\n",
       "      <td>1</td>\n",
       "      <td>0.0</td>\n",
       "      <td>0.0</td>\n",
       "      <td>4.8</td>\n",
       "      <td>NaN</td>\n",
       "    </tr>\n",
       "    <tr>\n",
       "      <th>3</th>\n",
       "      <td>0x33e7</td>\n",
       "      <td>2017-01-02</td>\n",
       "      <td>WH_0x3ea</td>\n",
       "      <td>38.749077</td>\n",
       "      <td>-105.183060</td>\n",
       "      <td>1</td>\n",
       "      <td>2017</td>\n",
       "      <td>1</td>\n",
       "      <td>0.0</td>\n",
       "      <td>0.0</td>\n",
       "      <td>6.7</td>\n",
       "      <td>NaN</td>\n",
       "    </tr>\n",
       "    <tr>\n",
       "      <th>4</th>\n",
       "      <td>0x2712</td>\n",
       "      <td>2017-01-03</td>\n",
       "      <td>WH_0x3e9</td>\n",
       "      <td>41.681471</td>\n",
       "      <td>-72.794746</td>\n",
       "      <td>1</td>\n",
       "      <td>2017</td>\n",
       "      <td>1</td>\n",
       "      <td>0.0</td>\n",
       "      <td>0.0</td>\n",
       "      <td>5.8</td>\n",
       "      <td>NaN</td>\n",
       "    </tr>\n",
       "    <tr>\n",
       "      <th>5</th>\n",
       "      <td>0x33e8</td>\n",
       "      <td>2017-01-03</td>\n",
       "      <td>WH_0x3ea</td>\n",
       "      <td>38.749077</td>\n",
       "      <td>-105.183060</td>\n",
       "      <td>1</td>\n",
       "      <td>2017</td>\n",
       "      <td>1</td>\n",
       "      <td>NaN</td>\n",
       "      <td>0.0</td>\n",
       "      <td>8.1</td>\n",
       "      <td>NaN</td>\n",
       "    </tr>\n",
       "    <tr>\n",
       "      <th>6</th>\n",
       "      <td>0x2713</td>\n",
       "      <td>2017-01-04</td>\n",
       "      <td>WH_0x3e9</td>\n",
       "      <td>41.681471</td>\n",
       "      <td>-72.794746</td>\n",
       "      <td>1</td>\n",
       "      <td>2017</td>\n",
       "      <td>1</td>\n",
       "      <td>0.0</td>\n",
       "      <td>0.0</td>\n",
       "      <td>6.6</td>\n",
       "      <td>NaN</td>\n",
       "    </tr>\n",
       "  </tbody>\n",
       "</table>\n",
       "</div>"
      ],
      "text/plain": [
       "       ID        date warehouse_ID   Latitude   Longitude  Product_Type  year  \\\n",
       "2  0x2711  2017-01-02     WH_0x3e9  41.681471  -72.794746             1  2017   \n",
       "3  0x33e7  2017-01-02     WH_0x3ea  38.749077 -105.183060             1  2017   \n",
       "4  0x2712  2017-01-03     WH_0x3e9  41.681471  -72.794746             1  2017   \n",
       "5  0x33e8  2017-01-03     WH_0x3ea  38.749077 -105.183060             1  2017   \n",
       "6  0x2713  2017-01-04     WH_0x3e9  41.681471  -72.794746             1  2017   \n",
       "\n",
       "   month  is_weekend  is_warehouse_closed  daily_dispatch_count  \\\n",
       "2      1         0.0                  0.0                   4.8   \n",
       "3      1         0.0                  0.0                   6.7   \n",
       "4      1         0.0                  0.0                   5.8   \n",
       "5      1         NaN                  0.0                   8.1   \n",
       "6      1         0.0                  0.0                   6.6   \n",
       "\n",
       "   weekly_dispatch_count  \n",
       "2                    NaN  \n",
       "3                    NaN  \n",
       "4                    NaN  \n",
       "5                    NaN  \n",
       "6                    NaN  "
      ]
     },
     "execution_count": 21,
     "metadata": {},
     "output_type": "execute_result"
    }
   ],
   "source": [
    "test_df1=final_df[final_df['ID'].isin(test_df1['ID'])]\n",
    "test_df1.head()"
   ]
  },
  {
   "cell_type": "code",
   "execution_count": 22,
   "id": "edd2f79d",
   "metadata": {},
   "outputs": [
    {
     "data": {
      "text/plain": [
       "<AxesSubplot:>"
      ]
     },
     "execution_count": 22,
     "metadata": {},
     "output_type": "execute_result"
    },
    {
     "data": {
      "image/png": "[encoded data removed]",
      "text/plain": [
       "<Figure size 864x720 with 2 Axes>"
      ]
     },
     "metadata": {
      "needs_background": "light"
     },
     "output_type": "display_data"
    }
   ],
   "source": [
    "#Plotting a Heatmap to identify the correlation between the independant features and the dependant feature\n",
    "corr = train_df1.corr()\n",
    "f, ax = plt.subplots(figsize=(12, 10))\n",
    "cmap = sns.diverging_palette(230, 20, as_cmap=True)\n",
    "\n",
    "# Draw the heatmap\n",
    "sns.heatmap(corr, annot=True, cmap=cmap)"
   ]
  },
  {
   "cell_type": "code",
   "execution_count": 23,
   "id": "0df19a35",
   "metadata": {},
   "outputs": [
    {
     "name": "stderr",
     "output_type": "stream",
     "text": [
      "c:\\users\\dell\\appdata\\local\\programs\\python\\python39\\lib\\site-packages\\pandas\\core\\frame.py:4906: SettingWithCopyWarning: \n",
      "A value is trying to be set on a copy of a slice from a DataFrame\n",
      "\n",
      "See the caveats in the documentation: https://pandas.pydata.org/pandas-docs/stable/user_guide/indexing.html#returning-a-view-versus-a-copy\n",
      "  return super().drop(\n"
     ]
    }
   ],
   "source": [
    "#The heatmap shows that is_weekend is completely uncorrelated, hence dropping it\n",
    "train_df1.drop('is_weekend', inplace=True, axis=1)"
   ]
  },
  {
   "cell_type": "code",
   "execution_count": 24,
   "id": "7d2e036d",
   "metadata": {},
   "outputs": [
    {
     "data": {
      "text/html": [
       "<div>\n",
       "<style scoped>\n",
       "    .dataframe tbody tr th:only-of-type {\n",
       "        vertical-align: middle;\n",
       "    }\n",
       "\n",
       "    .dataframe tbody tr th {\n",
       "        vertical-align: top;\n",
       "    }\n",
       "\n",
       "    .dataframe thead th {\n",
       "        text-align: right;\n",
       "    }\n",
       "</style>\n",
       "<table border=\"1\" class=\"dataframe\">\n",
       "  <thead>\n",
       "    <tr style=\"text-align: right;\">\n",
       "      <th></th>\n",
       "      <th>ID</th>\n",
       "      <th>date</th>\n",
       "      <th>warehouse_ID</th>\n",
       "      <th>Latitude</th>\n",
       "      <th>Longitude</th>\n",
       "      <th>Product_Type</th>\n",
       "      <th>year</th>\n",
       "      <th>month</th>\n",
       "      <th>is_warehouse_closed</th>\n",
       "      <th>daily_dispatch_count</th>\n",
       "      <th>weekly_dispatch_count</th>\n",
       "    </tr>\n",
       "  </thead>\n",
       "  <tbody>\n",
       "    <tr>\n",
       "      <th>0</th>\n",
       "      <td>0x2710</td>\n",
       "      <td>2017-01-01</td>\n",
       "      <td>WH_0x3e9</td>\n",
       "      <td>41.681471</td>\n",
       "      <td>-72.794746</td>\n",
       "      <td>1</td>\n",
       "      <td>2017</td>\n",
       "      <td>1</td>\n",
       "      <td>0.0</td>\n",
       "      <td>5.5</td>\n",
       "      <td>5.5</td>\n",
       "    </tr>\n",
       "    <tr>\n",
       "      <th>1</th>\n",
       "      <td>0x33e6</td>\n",
       "      <td>2017-01-01</td>\n",
       "      <td>WH_0x3ea</td>\n",
       "      <td>38.749077</td>\n",
       "      <td>-105.183060</td>\n",
       "      <td>1</td>\n",
       "      <td>2017</td>\n",
       "      <td>1</td>\n",
       "      <td>0.0</td>\n",
       "      <td>6.1</td>\n",
       "      <td>6.1</td>\n",
       "    </tr>\n",
       "    <tr>\n",
       "      <th>14</th>\n",
       "      <td>0x2717</td>\n",
       "      <td>2017-01-08</td>\n",
       "      <td>WH_0x3e9</td>\n",
       "      <td>41.681471</td>\n",
       "      <td>-72.794746</td>\n",
       "      <td>1</td>\n",
       "      <td>2017</td>\n",
       "      <td>1</td>\n",
       "      <td>0.0</td>\n",
       "      <td>4.5</td>\n",
       "      <td>37.1</td>\n",
       "    </tr>\n",
       "    <tr>\n",
       "      <th>15</th>\n",
       "      <td>0x33ed</td>\n",
       "      <td>2017-01-08</td>\n",
       "      <td>WH_0x3ea</td>\n",
       "      <td>38.749077</td>\n",
       "      <td>-105.183060</td>\n",
       "      <td>1</td>\n",
       "      <td>2017</td>\n",
       "      <td>1</td>\n",
       "      <td>0.0</td>\n",
       "      <td>6.5</td>\n",
       "      <td>48.3</td>\n",
       "    </tr>\n",
       "    <tr>\n",
       "      <th>28</th>\n",
       "      <td>0x271e</td>\n",
       "      <td>2017-01-15</td>\n",
       "      <td>WH_0x3e9</td>\n",
       "      <td>41.681471</td>\n",
       "      <td>-72.794746</td>\n",
       "      <td>1</td>\n",
       "      <td>2017</td>\n",
       "      <td>1</td>\n",
       "      <td>0.0</td>\n",
       "      <td>4.6</td>\n",
       "      <td>37.5</td>\n",
       "    </tr>\n",
       "  </tbody>\n",
       "</table>\n",
       "</div>"
      ],
      "text/plain": [
       "        ID        date warehouse_ID   Latitude   Longitude  Product_Type  \\\n",
       "0   0x2710  2017-01-01     WH_0x3e9  41.681471  -72.794746             1   \n",
       "1   0x33e6  2017-01-01     WH_0x3ea  38.749077 -105.183060             1   \n",
       "14  0x2717  2017-01-08     WH_0x3e9  41.681471  -72.794746             1   \n",
       "15  0x33ed  2017-01-08     WH_0x3ea  38.749077 -105.183060             1   \n",
       "28  0x271e  2017-01-15     WH_0x3e9  41.681471  -72.794746             1   \n",
       "\n",
       "    year  month  is_warehouse_closed  daily_dispatch_count  \\\n",
       "0   2017      1                  0.0                   5.5   \n",
       "1   2017      1                  0.0                   6.1   \n",
       "14  2017      1                  0.0                   4.5   \n",
       "15  2017      1                  0.0                   6.5   \n",
       "28  2017      1                  0.0                   4.6   \n",
       "\n",
       "    weekly_dispatch_count  \n",
       "0                     5.5  \n",
       "1                     6.1  \n",
       "14                   37.1  \n",
       "15                   48.3  \n",
       "28                   37.5  "
      ]
     },
     "execution_count": 24,
     "metadata": {},
     "output_type": "execute_result"
    }
   ],
   "source": [
    "train_df1.head()"
   ]
  },
  {
   "cell_type": "code",
   "execution_count": 25,
   "id": "4dcb218d",
   "metadata": {},
   "outputs": [
    {
     "data": {
      "text/html": [
       "<div>\n",
       "<style scoped>\n",
       "    .dataframe tbody tr th:only-of-type {\n",
       "        vertical-align: middle;\n",
       "    }\n",
       "\n",
       "    .dataframe tbody tr th {\n",
       "        vertical-align: top;\n",
       "    }\n",
       "\n",
       "    .dataframe thead th {\n",
       "        text-align: right;\n",
       "    }\n",
       "</style>\n",
       "<table border=\"1\" class=\"dataframe\">\n",
       "  <thead>\n",
       "    <tr style=\"text-align: right;\">\n",
       "      <th></th>\n",
       "      <th>ID</th>\n",
       "      <th>date</th>\n",
       "      <th>warehouse_ID</th>\n",
       "      <th>Latitude</th>\n",
       "      <th>Longitude</th>\n",
       "      <th>Product_Type</th>\n",
       "      <th>year</th>\n",
       "      <th>month</th>\n",
       "      <th>is_warehouse_closed</th>\n",
       "      <th>daily_dispatch_count</th>\n",
       "      <th>weekly_dispatch_count</th>\n",
       "    </tr>\n",
       "  </thead>\n",
       "  <tbody>\n",
       "    <tr>\n",
       "      <th>0</th>\n",
       "      <td>0x2710</td>\n",
       "      <td>2017-01-01</td>\n",
       "      <td>WH_0x3e9</td>\n",
       "      <td>41.681471</td>\n",
       "      <td>-72.794746</td>\n",
       "      <td>1</td>\n",
       "      <td>2017</td>\n",
       "      <td>1</td>\n",
       "      <td>0.0</td>\n",
       "      <td>5.5</td>\n",
       "      <td>5.5</td>\n",
       "    </tr>\n",
       "    <tr>\n",
       "      <th>1</th>\n",
       "      <td>0x33e6</td>\n",
       "      <td>2017-01-01</td>\n",
       "      <td>WH_0x3ea</td>\n",
       "      <td>38.749077</td>\n",
       "      <td>-105.183060</td>\n",
       "      <td>1</td>\n",
       "      <td>2017</td>\n",
       "      <td>1</td>\n",
       "      <td>0.0</td>\n",
       "      <td>6.1</td>\n",
       "      <td>6.1</td>\n",
       "    </tr>\n",
       "    <tr>\n",
       "      <th>14</th>\n",
       "      <td>0x2717</td>\n",
       "      <td>2017-01-08</td>\n",
       "      <td>WH_0x3e9</td>\n",
       "      <td>41.681471</td>\n",
       "      <td>-72.794746</td>\n",
       "      <td>1</td>\n",
       "      <td>2017</td>\n",
       "      <td>1</td>\n",
       "      <td>0.0</td>\n",
       "      <td>4.5</td>\n",
       "      <td>37.1</td>\n",
       "    </tr>\n",
       "    <tr>\n",
       "      <th>15</th>\n",
       "      <td>0x33ed</td>\n",
       "      <td>2017-01-08</td>\n",
       "      <td>WH_0x3ea</td>\n",
       "      <td>38.749077</td>\n",
       "      <td>-105.183060</td>\n",
       "      <td>1</td>\n",
       "      <td>2017</td>\n",
       "      <td>1</td>\n",
       "      <td>0.0</td>\n",
       "      <td>6.5</td>\n",
       "      <td>48.3</td>\n",
       "    </tr>\n",
       "    <tr>\n",
       "      <th>28</th>\n",
       "      <td>0x271e</td>\n",
       "      <td>2017-01-15</td>\n",
       "      <td>WH_0x3e9</td>\n",
       "      <td>41.681471</td>\n",
       "      <td>-72.794746</td>\n",
       "      <td>1</td>\n",
       "      <td>2017</td>\n",
       "      <td>1</td>\n",
       "      <td>0.0</td>\n",
       "      <td>4.6</td>\n",
       "      <td>37.5</td>\n",
       "    </tr>\n",
       "    <tr>\n",
       "      <th>...</th>\n",
       "      <td>...</td>\n",
       "      <td>...</td>\n",
       "      <td>...</td>\n",
       "      <td>...</td>\n",
       "      <td>...</td>\n",
       "      <td>...</td>\n",
       "      <td>...</td>\n",
       "      <td>...</td>\n",
       "      <td>...</td>\n",
       "      <td>...</td>\n",
       "      <td>...</td>\n",
       "    </tr>\n",
       "    <tr>\n",
       "      <th>16539</th>\n",
       "      <td>0x6f49</td>\n",
       "      <td>2021-04-25</td>\n",
       "      <td>WH_0x3f0</td>\n",
       "      <td>37.915825</td>\n",
       "      <td>-89.829262</td>\n",
       "      <td>2</td>\n",
       "      <td>2021</td>\n",
       "      <td>4</td>\n",
       "      <td>0.0</td>\n",
       "      <td>3.8</td>\n",
       "      <td>16.8</td>\n",
       "    </tr>\n",
       "    <tr>\n",
       "      <th>16540</th>\n",
       "      <td>0x74be</td>\n",
       "      <td>2021-04-25</td>\n",
       "      <td>WH_0x3f1</td>\n",
       "      <td>48.692551</td>\n",
       "      <td>-116.319862</td>\n",
       "      <td>1</td>\n",
       "      <td>2021</td>\n",
       "      <td>4</td>\n",
       "      <td>0.0</td>\n",
       "      <td>5.6</td>\n",
       "      <td>43.5</td>\n",
       "    </tr>\n",
       "    <tr>\n",
       "      <th>16541</th>\n",
       "      <td>0x74bf</td>\n",
       "      <td>2021-04-25</td>\n",
       "      <td>WH_0x3f1</td>\n",
       "      <td>48.692551</td>\n",
       "      <td>-116.319862</td>\n",
       "      <td>2</td>\n",
       "      <td>2021</td>\n",
       "      <td>4</td>\n",
       "      <td>1.0</td>\n",
       "      <td>0.0</td>\n",
       "      <td>12.3</td>\n",
       "    </tr>\n",
       "    <tr>\n",
       "      <th>16542</th>\n",
       "      <td>0x7942</td>\n",
       "      <td>2021-04-25</td>\n",
       "      <td>WH_0x3f2</td>\n",
       "      <td>61.600803</td>\n",
       "      <td>-149.125259</td>\n",
       "      <td>1</td>\n",
       "      <td>2021</td>\n",
       "      <td>4</td>\n",
       "      <td>0.0</td>\n",
       "      <td>7.6</td>\n",
       "      <td>55.9</td>\n",
       "    </tr>\n",
       "    <tr>\n",
       "      <th>16543</th>\n",
       "      <td>0x7943</td>\n",
       "      <td>2021-04-25</td>\n",
       "      <td>WH_0x3f2</td>\n",
       "      <td>61.600803</td>\n",
       "      <td>-149.125259</td>\n",
       "      <td>2</td>\n",
       "      <td>2021</td>\n",
       "      <td>4</td>\n",
       "      <td>0.0</td>\n",
       "      <td>2.4</td>\n",
       "      <td>8.2</td>\n",
       "    </tr>\n",
       "  </tbody>\n",
       "</table>\n",
       "<p>2372 rows × 11 columns</p>\n",
       "</div>"
      ],
      "text/plain": [
       "           ID        date warehouse_ID   Latitude   Longitude  Product_Type  \\\n",
       "0      0x2710  2017-01-01     WH_0x3e9  41.681471  -72.794746             1   \n",
       "1      0x33e6  2017-01-01     WH_0x3ea  38.749077 -105.183060             1   \n",
       "14     0x2717  2017-01-08     WH_0x3e9  41.681471  -72.794746             1   \n",
       "15     0x33ed  2017-01-08     WH_0x3ea  38.749077 -105.183060             1   \n",
       "28     0x271e  2017-01-15     WH_0x3e9  41.681471  -72.794746             1   \n",
       "...       ...         ...          ...        ...         ...           ...   \n",
       "16539  0x6f49  2021-04-25     WH_0x3f0  37.915825  -89.829262             2   \n",
       "16540  0x74be  2021-04-25     WH_0x3f1  48.692551 -116.319862             1   \n",
       "16541  0x74bf  2021-04-25     WH_0x3f1  48.692551 -116.319862             2   \n",
       "16542  0x7942  2021-04-25     WH_0x3f2  61.600803 -149.125259             1   \n",
       "16543  0x7943  2021-04-25     WH_0x3f2  61.600803 -149.125259             2   \n",
       "\n",
       "       year  month  is_warehouse_closed  daily_dispatch_count  \\\n",
       "0      2017      1                  0.0                   5.5   \n",
       "1      2017      1                  0.0                   6.1   \n",
       "14     2017      1                  0.0                   4.5   \n",
       "15     2017      1                  0.0                   6.5   \n",
       "28     2017      1                  0.0                   4.6   \n",
       "...     ...    ...                  ...                   ...   \n",
       "16539  2021      4                  0.0                   3.8   \n",
       "16540  2021      4                  0.0                   5.6   \n",
       "16541  2021      4                  1.0                   0.0   \n",
       "16542  2021      4                  0.0                   7.6   \n",
       "16543  2021      4                  0.0                   2.4   \n",
       "\n",
       "       weekly_dispatch_count  \n",
       "0                        5.5  \n",
       "1                        6.1  \n",
       "14                      37.1  \n",
       "15                      48.3  \n",
       "28                      37.5  \n",
       "...                      ...  \n",
       "16539                   16.8  \n",
       "16540                   43.5  \n",
       "16541                   12.3  \n",
       "16542                   55.9  \n",
       "16543                    8.2  \n",
       "\n",
       "[2372 rows x 11 columns]"
      ]
     },
     "execution_count": 25,
     "metadata": {},
     "output_type": "execute_result"
    }
   ],
   "source": [
    "train_df1.fillna(0)"
   ]
  },
  {
   "cell_type": "code",
   "execution_count": 26,
   "id": "68024d90",
   "metadata": {},
   "outputs": [
    {
     "data": {
      "text/plain": [
       "ID                        0\n",
       "date                      0\n",
       "warehouse_ID              0\n",
       "Latitude                 44\n",
       "Longitude                68\n",
       "Product_Type              0\n",
       "year                      0\n",
       "month                     0\n",
       "is_warehouse_closed      19\n",
       "daily_dispatch_count      0\n",
       "weekly_dispatch_count     0\n",
       "dtype: int64"
      ]
     },
     "execution_count": 26,
     "metadata": {},
     "output_type": "execute_result"
    }
   ],
   "source": [
    "train_df1.isnull().sum()"
   ]
  },
  {
   "cell_type": "code",
   "execution_count": 27,
   "id": "20bf3f06",
   "metadata": {},
   "outputs": [
    {
     "name": "stderr",
     "output_type": "stream",
     "text": [
      "C:\\Users\\dell\\AppData\\Local\\Temp/ipykernel_24456/3678586999.py:1: SettingWithCopyWarning: \n",
      "A value is trying to be set on a copy of a slice from a DataFrame.\n",
      "Try using .loc[row_indexer,col_indexer] = value instead\n",
      "\n",
      "See the caveats in the documentation: https://pandas.pydata.org/pandas-docs/stable/user_guide/indexing.html#returning-a-view-versus-a-copy\n",
      "  train_df1['Latitude']=train_df1['Latitude'].fillna(0)\n"
     ]
    }
   ],
   "source": [
    "train_df1['Latitude']=train_df1['Latitude'].fillna(0)"
   ]
  },
  {
   "cell_type": "code",
   "execution_count": 28,
   "id": "2f24f55a",
   "metadata": {},
   "outputs": [
    {
     "name": "stderr",
     "output_type": "stream",
     "text": [
      "C:\\Users\\dell\\AppData\\Local\\Temp/ipykernel_24456/543189213.py:1: SettingWithCopyWarning: \n",
      "A value is trying to be set on a copy of a slice from a DataFrame.\n",
      "Try using .loc[row_indexer,col_indexer] = value instead\n",
      "\n",
      "See the caveats in the documentation: https://pandas.pydata.org/pandas-docs/stable/user_guide/indexing.html#returning-a-view-versus-a-copy\n",
      "  train_df1['Longitude']=train_df1['Longitude'].fillna(0)\n"
     ]
    }
   ],
   "source": [
    "train_df1['Longitude']=train_df1['Longitude'].fillna(0)"
   ]
  },
  {
   "cell_type": "code",
   "execution_count": 29,
   "id": "93d33c85",
   "metadata": {},
   "outputs": [
    {
     "name": "stderr",
     "output_type": "stream",
     "text": [
      "C:\\Users\\dell\\AppData\\Local\\Temp/ipykernel_24456/4121231987.py:1: SettingWithCopyWarning: \n",
      "A value is trying to be set on a copy of a slice from a DataFrame.\n",
      "Try using .loc[row_indexer,col_indexer] = value instead\n",
      "\n",
      "See the caveats in the documentation: https://pandas.pydata.org/pandas-docs/stable/user_guide/indexing.html#returning-a-view-versus-a-copy\n",
      "  train_df1['is_warehouse_closed']=train_df1['is_warehouse_closed'].fillna(0)\n"
     ]
    }
   ],
   "source": [
    "train_df1['is_warehouse_closed']=train_df1['is_warehouse_closed'].fillna(0)"
   ]
  },
  {
   "cell_type": "code",
   "execution_count": 30,
   "id": "62fe9cb3",
   "metadata": {},
   "outputs": [
    {
     "data": {
      "text/plain": [
       "array([[ 4.1681471e+01, -7.2794746e+01,  1.0000000e+00,  2.0170000e+03,\n",
       "         1.0000000e+00,  0.0000000e+00,  5.5000000e+00],\n",
       "       [ 3.8749077e+01, -1.0518306e+02,  1.0000000e+00,  2.0170000e+03,\n",
       "         1.0000000e+00,  0.0000000e+00,  6.1000000e+00],\n",
       "       [ 4.1681471e+01, -7.2794746e+01,  1.0000000e+00,  2.0170000e+03,\n",
       "         1.0000000e+00,  0.0000000e+00,  4.5000000e+00],\n",
       "       [ 3.8749077e+01, -1.0518306e+02,  1.0000000e+00,  2.0170000e+03,\n",
       "         1.0000000e+00,  0.0000000e+00,  6.5000000e+00],\n",
       "       [ 4.1681471e+01, -7.2794746e+01,  1.0000000e+00,  2.0170000e+03,\n",
       "         1.0000000e+00,  0.0000000e+00,  4.6000000e+00]])"
      ]
     },
     "execution_count": 30,
     "metadata": {},
     "output_type": "execute_result"
    }
   ],
   "source": [
    "X = np.asarray(train_df1[['Latitude','Longitude','Product_Type','year','month','is_warehouse_closed','daily_dispatch_count']])\n",
    "X[0:5]"
   ]
  },
  {
   "cell_type": "code",
   "execution_count": 31,
   "id": "3686b375",
   "metadata": {},
   "outputs": [
    {
     "data": {
      "text/plain": [
       "array([ 5.5,  6.1, 37.1, 48.3, 37.5])"
      ]
     },
     "execution_count": 31,
     "metadata": {},
     "output_type": "execute_result"
    }
   ],
   "source": [
    "y = np.asarray(train_df1['weekly_dispatch_count'])\n",
    "y[0:5]"
   ]
  },
  {
   "cell_type": "code",
   "execution_count": 32,
   "id": "8f85a5f6",
   "metadata": {},
   "outputs": [
    {
     "name": "stdout",
     "output_type": "stream",
     "text": [
      "Train set: (1897, 7) (1897,)\n",
      "Test set: (475, 7) (475,)\n"
     ]
    }
   ],
   "source": [
    "#Cross validation using train_test_split\n",
    "from sklearn.model_selection import train_test_split\n",
    "X_train, X_test, y_train, y_test = train_test_split( X, y, test_size=0.2, random_state=4)\n",
    "print ('Train set:', X_train.shape,  y_train.shape)\n",
    "print ('Test set:', X_test.shape,  y_test.shape)"
   ]
  },
  {
   "cell_type": "code",
   "execution_count": 33,
   "id": "1a3188ee",
   "metadata": {},
   "outputs": [
    {
     "data": {
      "text/plain": [
       "DecisionTreeRegressor(random_state=0)"
      ]
     },
     "execution_count": 33,
     "metadata": {},
     "output_type": "execute_result"
    }
   ],
   "source": [
    "from sklearn.tree import DecisionTreeRegressor\n",
    "\n",
    "DTregressor = DecisionTreeRegressor(random_state=0)\n",
    "DTregressor.fit(X_train, y_train)\n"
   ]
  },
  {
   "cell_type": "code",
   "execution_count": 34,
   "id": "1dd6503d",
   "metadata": {},
   "outputs": [
    {
     "data": {
      "text/plain": [
       "array([76.4, 17.3, 54.3, 15.8, 11.8])"
      ]
     },
     "execution_count": 34,
     "metadata": {},
     "output_type": "execute_result"
    }
   ],
   "source": [
    "yhat = DTregressor.predict(X_test)\n",
    "yhat[0:5]"
   ]
  },
  {
   "cell_type": "code",
   "execution_count": 35,
   "id": "15fa8b5a",
   "metadata": {},
   "outputs": [
    {
     "name": "stdout",
     "output_type": "stream",
     "text": [
      "4.344561403508773\n",
      "0.9125493234291027\n"
     ]
    }
   ],
   "source": [
    "from sklearn.metrics import mean_absolute_error\n",
    "from sklearn.metrics import r2_score\n",
    "\n",
    "print(mean_absolute_error(y_test, yhat))\n",
    "print(r2_score(y_test, yhat))\n"
   ]
  },
  {
   "cell_type": "code",
   "execution_count": 36,
   "id": "123f4288",
   "metadata": {},
   "outputs": [
    {
     "data": {
      "text/plain": [
       "RandomForestRegressor(max_depth=15, random_state=0)"
      ]
     },
     "execution_count": 36,
     "metadata": {},
     "output_type": "execute_result"
    }
   ],
   "source": [
    "from sklearn.ensemble import RandomForestRegressor\n",
    "\n",
    "RFregr = RandomForestRegressor(max_depth=15, random_state=0)\n",
    "RFregr.fit(X_train, y_train)"
   ]
  },
  {
   "cell_type": "code",
   "execution_count": 37,
   "id": "f71e5dea",
   "metadata": {},
   "outputs": [
    {
     "data": {
      "text/plain": [
       "array([71.56933333, 20.24180833, 58.0818    , 12.80925   , 13.3999    ])"
      ]
     },
     "execution_count": 37,
     "metadata": {},
     "output_type": "execute_result"
    }
   ],
   "source": [
    "yhat = RFregr.predict(X_test)\n",
    "yhat[0:5]"
   ]
  },
  {
   "cell_type": "code",
   "execution_count": 38,
   "id": "722420f2",
   "metadata": {},
   "outputs": [
    {
     "name": "stdout",
     "output_type": "stream",
     "text": [
      "3.6506115091201687\n",
      "0.936140866746838\n"
     ]
    }
   ],
   "source": [
    "from sklearn.metrics import mean_absolute_error\n",
    "from sklearn.metrics import r2_score\n",
    "\n",
    "print(mean_absolute_error(y_test, yhat))\n",
    "print(r2_score(y_test, yhat))"
   ]
  },
  {
   "cell_type": "markdown",
   "id": "78546e50",
   "metadata": {},
   "source": [
    "We observer that Random forest regressor with N_estimator=15 is giving the best R2 score and least MAE."
   ]
  },
  {
   "cell_type": "code",
   "execution_count": 43,
   "id": "796023ca",
   "metadata": {},
   "outputs": [
    {
     "data": {
      "text/plain": [
       "ID                           0\n",
       "date                         0\n",
       "warehouse_ID                 0\n",
       "Latitude                     0\n",
       "Longitude                    0\n",
       "Product_Type                 0\n",
       "year                         0\n",
       "month                        0\n",
       "is_weekend                 429\n",
       "is_warehouse_closed          0\n",
       "daily_dispatch_count         0\n",
       "weekly_dispatch_count    14272\n",
       "dtype: int64"
      ]
     },
     "execution_count": 43,
     "metadata": {},
     "output_type": "execute_result"
    }
   ],
   "source": [
    "test_df1.isnull().sum()"
   ]
  },
  {
   "cell_type": "code",
   "execution_count": 50,
   "id": "23a375a9",
   "metadata": {},
   "outputs": [
    {
     "data": {
      "text/plain": [
       "False"
      ]
     },
     "execution_count": 50,
     "metadata": {},
     "output_type": "execute_result"
    }
   ],
   "source": [
    "test_df1['ID'].isnull().values.any()"
   ]
  },
  {
   "cell_type": "code",
   "execution_count": 40,
   "id": "83141874",
   "metadata": {},
   "outputs": [
    {
     "name": "stderr",
     "output_type": "stream",
     "text": [
      "C:\\Users\\dell\\AppData\\Local\\Temp/ipykernel_24456/343426492.py:1: SettingWithCopyWarning: \n",
      "A value is trying to be set on a copy of a slice from a DataFrame.\n",
      "Try using .loc[row_indexer,col_indexer] = value instead\n",
      "\n",
      "See the caveats in the documentation: https://pandas.pydata.org/pandas-docs/stable/user_guide/indexing.html#returning-a-view-versus-a-copy\n",
      "  test_df1['Longitude']=test_df1['Longitude'].fillna(0)\n"
     ]
    }
   ],
   "source": [
    "test_df1['Longitude']=test_df1['Longitude'].fillna(0)"
   ]
  },
  {
   "cell_type": "code",
   "execution_count": 41,
   "id": "bf63808d",
   "metadata": {},
   "outputs": [
    {
     "name": "stderr",
     "output_type": "stream",
     "text": [
      "C:\\Users\\dell\\AppData\\Local\\Temp/ipykernel_24456/2941693710.py:1: SettingWithCopyWarning: \n",
      "A value is trying to be set on a copy of a slice from a DataFrame.\n",
      "Try using .loc[row_indexer,col_indexer] = value instead\n",
      "\n",
      "See the caveats in the documentation: https://pandas.pydata.org/pandas-docs/stable/user_guide/indexing.html#returning-a-view-versus-a-copy\n",
      "  test_df1['Latitude']=test_df1['Latitude'].fillna(0)\n"
     ]
    }
   ],
   "source": [
    "test_df1['Latitude']=test_df1['Latitude'].fillna(0)"
   ]
  },
  {
   "cell_type": "code",
   "execution_count": 42,
   "id": "0b11904a",
   "metadata": {},
   "outputs": [
    {
     "name": "stderr",
     "output_type": "stream",
     "text": [
      "C:\\Users\\dell\\AppData\\Local\\Temp/ipykernel_24456/4176240824.py:1: SettingWithCopyWarning: \n",
      "A value is trying to be set on a copy of a slice from a DataFrame.\n",
      "Try using .loc[row_indexer,col_indexer] = value instead\n",
      "\n",
      "See the caveats in the documentation: https://pandas.pydata.org/pandas-docs/stable/user_guide/indexing.html#returning-a-view-versus-a-copy\n",
      "  test_df1['is_warehouse_closed']=test_df1['is_warehouse_closed'].fillna(0)\n"
     ]
    }
   ],
   "source": [
    "test_df1['is_warehouse_closed']=test_df1['is_warehouse_closed'].fillna(0)"
   ]
  },
  {
   "cell_type": "code",
   "execution_count": 44,
   "id": "dca198ff",
   "metadata": {},
   "outputs": [],
   "source": [
    "df = np.asarray(test_df1[['Latitude','Longitude','Product_Type','year','month','is_warehouse_closed','daily_dispatch_count']])"
   ]
  },
  {
   "cell_type": "code",
   "execution_count": 45,
   "id": "9f9c0668",
   "metadata": {},
   "outputs": [
    {
     "data": {
      "text/plain": [
       "array([[ 4.1681471e+01, -7.2794746e+01,  1.0000000e+00,  2.0170000e+03,\n",
       "         1.0000000e+00,  0.0000000e+00,  4.8000000e+00],\n",
       "       [ 3.8749077e+01, -1.0518306e+02,  1.0000000e+00,  2.0170000e+03,\n",
       "         1.0000000e+00,  0.0000000e+00,  6.7000000e+00],\n",
       "       [ 4.1681471e+01, -7.2794746e+01,  1.0000000e+00,  2.0170000e+03,\n",
       "         1.0000000e+00,  0.0000000e+00,  5.8000000e+00],\n",
       "       [ 3.8749077e+01, -1.0518306e+02,  1.0000000e+00,  2.0170000e+03,\n",
       "         1.0000000e+00,  0.0000000e+00,  8.1000000e+00],\n",
       "       [ 4.1681471e+01, -7.2794746e+01,  1.0000000e+00,  2.0170000e+03,\n",
       "         1.0000000e+00,  0.0000000e+00,  6.6000000e+00]])"
      ]
     },
     "execution_count": 45,
     "metadata": {},
     "output_type": "execute_result"
    }
   ],
   "source": [
    "df [0:5]"
   ]
  },
  {
   "cell_type": "code",
   "execution_count": 46,
   "id": "0d01b431",
   "metadata": {},
   "outputs": [],
   "source": [
    "#Making the predictions using Random Forest Regression model\n",
    "yhat = RFregr.predict(df)"
   ]
  },
  {
   "cell_type": "code",
   "execution_count": 54,
   "id": "5d2a8ad6",
   "metadata": {},
   "outputs": [],
   "source": [
    "#Getting the weekly_dispatch_count of the rows missing the values in the train data\n",
    "new_df = pd.DataFrame(yhat,columns = ['weekly_dispatch_count'])"
   ]
  },
  {
   "cell_type": "code",
   "execution_count": 63,
   "id": "4911e014",
   "metadata": {},
   "outputs": [],
   "source": [
    "test_df1.index = np.arange(0, len(test_df1))"
   ]
  },
  {
   "cell_type": "code",
   "execution_count": 66,
   "id": "4b1d9830",
   "metadata": {},
   "outputs": [],
   "source": [
    "new_df['ID']=test_df1['ID']"
   ]
  },
  {
   "cell_type": "code",
   "execution_count": 67,
   "id": "7616a1d2",
   "metadata": {},
   "outputs": [
    {
     "data": {
      "text/html": [
       "<div>\n",
       "<style scoped>\n",
       "    .dataframe tbody tr th:only-of-type {\n",
       "        vertical-align: middle;\n",
       "    }\n",
       "\n",
       "    .dataframe tbody tr th {\n",
       "        vertical-align: top;\n",
       "    }\n",
       "\n",
       "    .dataframe thead th {\n",
       "        text-align: right;\n",
       "    }\n",
       "</style>\n",
       "<table border=\"1\" class=\"dataframe\">\n",
       "  <thead>\n",
       "    <tr style=\"text-align: right;\">\n",
       "      <th></th>\n",
       "      <th>ID</th>\n",
       "      <th>weekly_dispatch_count</th>\n",
       "    </tr>\n",
       "  </thead>\n",
       "  <tbody>\n",
       "    <tr>\n",
       "      <th>0</th>\n",
       "      <td>0x2711</td>\n",
       "      <td>35.392036</td>\n",
       "    </tr>\n",
       "    <tr>\n",
       "      <th>1</th>\n",
       "      <td>0x33e7</td>\n",
       "      <td>50.955900</td>\n",
       "    </tr>\n",
       "    <tr>\n",
       "      <th>2</th>\n",
       "      <td>0x2712</td>\n",
       "      <td>31.954667</td>\n",
       "    </tr>\n",
       "    <tr>\n",
       "      <th>3</th>\n",
       "      <td>0x33e8</td>\n",
       "      <td>58.780000</td>\n",
       "    </tr>\n",
       "    <tr>\n",
       "      <th>4</th>\n",
       "      <td>0x2713</td>\n",
       "      <td>43.046000</td>\n",
       "    </tr>\n",
       "    <tr>\n",
       "      <th>5</th>\n",
       "      <td>0x33e9</td>\n",
       "      <td>54.121333</td>\n",
       "    </tr>\n",
       "    <tr>\n",
       "      <th>6</th>\n",
       "      <td>0x2714</td>\n",
       "      <td>35.320750</td>\n",
       "    </tr>\n",
       "    <tr>\n",
       "      <th>7</th>\n",
       "      <td>0x33ea</td>\n",
       "      <td>54.940833</td>\n",
       "    </tr>\n",
       "    <tr>\n",
       "      <th>8</th>\n",
       "      <td>0x2715</td>\n",
       "      <td>33.261583</td>\n",
       "    </tr>\n",
       "    <tr>\n",
       "      <th>9</th>\n",
       "      <td>0x33eb</td>\n",
       "      <td>55.270833</td>\n",
       "    </tr>\n",
       "    <tr>\n",
       "      <th>10</th>\n",
       "      <td>0x2716</td>\n",
       "      <td>36.567036</td>\n",
       "    </tr>\n",
       "    <tr>\n",
       "      <th>11</th>\n",
       "      <td>0x33ec</td>\n",
       "      <td>39.987000</td>\n",
       "    </tr>\n",
       "    <tr>\n",
       "      <th>12</th>\n",
       "      <td>0x2718</td>\n",
       "      <td>35.392036</td>\n",
       "    </tr>\n",
       "    <tr>\n",
       "      <th>13</th>\n",
       "      <td>0x33ee</td>\n",
       "      <td>49.799400</td>\n",
       "    </tr>\n",
       "    <tr>\n",
       "      <th>14</th>\n",
       "      <td>0x2719</td>\n",
       "      <td>35.320750</td>\n",
       "    </tr>\n",
       "    <tr>\n",
       "      <th>15</th>\n",
       "      <td>0x33ef</td>\n",
       "      <td>55.270833</td>\n",
       "    </tr>\n",
       "    <tr>\n",
       "      <th>16</th>\n",
       "      <td>0x271a</td>\n",
       "      <td>44.346671</td>\n",
       "    </tr>\n",
       "    <tr>\n",
       "      <th>17</th>\n",
       "      <td>0x33f0</td>\n",
       "      <td>52.456000</td>\n",
       "    </tr>\n",
       "    <tr>\n",
       "      <th>18</th>\n",
       "      <td>0x271b</td>\n",
       "      <td>21.553750</td>\n",
       "    </tr>\n",
       "    <tr>\n",
       "      <th>19</th>\n",
       "      <td>0x33f1</td>\n",
       "      <td>58.780000</td>\n",
       "    </tr>\n",
       "    <tr>\n",
       "      <th>20</th>\n",
       "      <td>0x271c</td>\n",
       "      <td>31.954667</td>\n",
       "    </tr>\n",
       "    <tr>\n",
       "      <th>21</th>\n",
       "      <td>0x33f2</td>\n",
       "      <td>58.780000</td>\n",
       "    </tr>\n",
       "    <tr>\n",
       "      <th>22</th>\n",
       "      <td>0x271d</td>\n",
       "      <td>29.113000</td>\n",
       "    </tr>\n",
       "    <tr>\n",
       "      <th>23</th>\n",
       "      <td>0x33f3</td>\n",
       "      <td>44.008667</td>\n",
       "    </tr>\n",
       "    <tr>\n",
       "      <th>24</th>\n",
       "      <td>0x271f</td>\n",
       "      <td>21.916417</td>\n",
       "    </tr>\n",
       "    <tr>\n",
       "      <th>25</th>\n",
       "      <td>0x33f5</td>\n",
       "      <td>55.270833</td>\n",
       "    </tr>\n",
       "    <tr>\n",
       "      <th>26</th>\n",
       "      <td>0x2720</td>\n",
       "      <td>26.050750</td>\n",
       "    </tr>\n",
       "    <tr>\n",
       "      <th>27</th>\n",
       "      <td>0x33f6</td>\n",
       "      <td>55.270833</td>\n",
       "    </tr>\n",
       "    <tr>\n",
       "      <th>28</th>\n",
       "      <td>0x2721</td>\n",
       "      <td>27.902750</td>\n",
       "    </tr>\n",
       "    <tr>\n",
       "      <th>29</th>\n",
       "      <td>0x33f7</td>\n",
       "      <td>52.640667</td>\n",
       "    </tr>\n",
       "  </tbody>\n",
       "</table>\n",
       "</div>"
      ],
      "text/plain": [
       "        ID  weekly_dispatch_count\n",
       "0   0x2711              35.392036\n",
       "1   0x33e7              50.955900\n",
       "2   0x2712              31.954667\n",
       "3   0x33e8              58.780000\n",
       "4   0x2713              43.046000\n",
       "5   0x33e9              54.121333\n",
       "6   0x2714              35.320750\n",
       "7   0x33ea              54.940833\n",
       "8   0x2715              33.261583\n",
       "9   0x33eb              55.270833\n",
       "10  0x2716              36.567036\n",
       "11  0x33ec              39.987000\n",
       "12  0x2718              35.392036\n",
       "13  0x33ee              49.799400\n",
       "14  0x2719              35.320750\n",
       "15  0x33ef              55.270833\n",
       "16  0x271a              44.346671\n",
       "17  0x33f0              52.456000\n",
       "18  0x271b              21.553750\n",
       "19  0x33f1              58.780000\n",
       "20  0x271c              31.954667\n",
       "21  0x33f2              58.780000\n",
       "22  0x271d              29.113000\n",
       "23  0x33f3              44.008667\n",
       "24  0x271f              21.916417\n",
       "25  0x33f5              55.270833\n",
       "26  0x2720              26.050750\n",
       "27  0x33f6              55.270833\n",
       "28  0x2721              27.902750\n",
       "29  0x33f7              52.640667"
      ]
     },
     "execution_count": 67,
     "metadata": {},
     "output_type": "execute_result"
    }
   ],
   "source": [
    "new_df=new_df.reindex(columns=['ID','weekly_dispatch_count'])\n",
    "\n",
    "new_df.head(30)"
   ]
  },
  {
   "cell_type": "code",
   "execution_count": 68,
   "id": "5906d070",
   "metadata": {},
   "outputs": [],
   "source": [
    "#Writing the output to a .csv file\n",
    "new_df.to_csv('sample_output.csv',index=False)"
   ]
  },
  {
   "cell_type": "code",
   "execution_count": 70,
   "id": "3308ee50",
   "metadata": {},
   "outputs": [],
   "source": [
    "new_df[['Latitude','Longitude','Product_Type','year','month','is_warehouse_closed','daily_dispatch_count']]=test_df1[['Latitude','Longitude','Product_Type','year','month','is_warehouse_closed','daily_dispatch_count']]"
   ]
  },
  {
   "cell_type": "code",
   "execution_count": 73,
   "id": "f5b94374",
   "metadata": {},
   "outputs": [
    {
     "data": {
      "text/html": [
       "<div>\n",
       "<style scoped>\n",
       "    .dataframe tbody tr th:only-of-type {\n",
       "        vertical-align: middle;\n",
       "    }\n",
       "\n",
       "    .dataframe tbody tr th {\n",
       "        vertical-align: top;\n",
       "    }\n",
       "\n",
       "    .dataframe thead th {\n",
       "        text-align: right;\n",
       "    }\n",
       "</style>\n",
       "<table border=\"1\" class=\"dataframe\">\n",
       "  <thead>\n",
       "    <tr style=\"text-align: right;\">\n",
       "      <th></th>\n",
       "      <th>ID</th>\n",
       "      <th>Latitude</th>\n",
       "      <th>Longitude</th>\n",
       "      <th>Product_Type</th>\n",
       "      <th>year</th>\n",
       "      <th>month</th>\n",
       "      <th>is_warehouse_closed</th>\n",
       "      <th>daily_dispatch_count</th>\n",
       "      <th>weekly_dispatch_count</th>\n",
       "    </tr>\n",
       "  </thead>\n",
       "  <tbody>\n",
       "    <tr>\n",
       "      <th>0</th>\n",
       "      <td>0x2711</td>\n",
       "      <td>41.681471</td>\n",
       "      <td>-72.794746</td>\n",
       "      <td>1</td>\n",
       "      <td>2017</td>\n",
       "      <td>1</td>\n",
       "      <td>0.0</td>\n",
       "      <td>4.8</td>\n",
       "      <td>35.392036</td>\n",
       "    </tr>\n",
       "    <tr>\n",
       "      <th>1</th>\n",
       "      <td>0x33e7</td>\n",
       "      <td>38.749077</td>\n",
       "      <td>-105.183060</td>\n",
       "      <td>1</td>\n",
       "      <td>2017</td>\n",
       "      <td>1</td>\n",
       "      <td>0.0</td>\n",
       "      <td>6.7</td>\n",
       "      <td>50.955900</td>\n",
       "    </tr>\n",
       "    <tr>\n",
       "      <th>2</th>\n",
       "      <td>0x2712</td>\n",
       "      <td>41.681471</td>\n",
       "      <td>-72.794746</td>\n",
       "      <td>1</td>\n",
       "      <td>2017</td>\n",
       "      <td>1</td>\n",
       "      <td>0.0</td>\n",
       "      <td>5.8</td>\n",
       "      <td>31.954667</td>\n",
       "    </tr>\n",
       "    <tr>\n",
       "      <th>3</th>\n",
       "      <td>0x33e8</td>\n",
       "      <td>38.749077</td>\n",
       "      <td>-105.183060</td>\n",
       "      <td>1</td>\n",
       "      <td>2017</td>\n",
       "      <td>1</td>\n",
       "      <td>0.0</td>\n",
       "      <td>8.1</td>\n",
       "      <td>58.780000</td>\n",
       "    </tr>\n",
       "    <tr>\n",
       "      <th>4</th>\n",
       "      <td>0x2713</td>\n",
       "      <td>41.681471</td>\n",
       "      <td>-72.794746</td>\n",
       "      <td>1</td>\n",
       "      <td>2017</td>\n",
       "      <td>1</td>\n",
       "      <td>0.0</td>\n",
       "      <td>6.6</td>\n",
       "      <td>43.046000</td>\n",
       "    </tr>\n",
       "  </tbody>\n",
       "</table>\n",
       "</div>"
      ],
      "text/plain": [
       "       ID   Latitude   Longitude  Product_Type  year  month  \\\n",
       "0  0x2711  41.681471  -72.794746             1  2017      1   \n",
       "1  0x33e7  38.749077 -105.183060             1  2017      1   \n",
       "2  0x2712  41.681471  -72.794746             1  2017      1   \n",
       "3  0x33e8  38.749077 -105.183060             1  2017      1   \n",
       "4  0x2713  41.681471  -72.794746             1  2017      1   \n",
       "\n",
       "   is_warehouse_closed  daily_dispatch_count  weekly_dispatch_count  \n",
       "0                  0.0                   4.8              35.392036  \n",
       "1                  0.0                   6.7              50.955900  \n",
       "2                  0.0                   5.8              31.954667  \n",
       "3                  0.0                   8.1              58.780000  \n",
       "4                  0.0                   6.6              43.046000  "
      ]
     },
     "execution_count": 73,
     "metadata": {},
     "output_type": "execute_result"
    }
   ],
   "source": [
    "new_df.head()"
   ]
  },
  {
   "cell_type": "code",
   "execution_count": 72,
   "id": "88199a9b",
   "metadata": {},
   "outputs": [],
   "source": [
    "new_df=new_df.reindex(columns=['ID','Latitude','Longitude','Product_Type','year','month','is_warehouse_closed','daily_dispatch_count','weekly_dispatch_count'])"
   ]
  },
  {
   "cell_type": "code",
   "execution_count": 82,
   "id": "0ebe1f34",
   "metadata": {},
   "outputs": [],
   "source": [
    "train_df1.index = np.arange(0, len(train_df1))"
   ]
  },
  {
   "cell_type": "code",
   "execution_count": 83,
   "id": "d6f7302b",
   "metadata": {},
   "outputs": [],
   "source": [
    "#Getting the new train data\n",
    "train_df2=pd.concat([train_df1,new_df],axis=0)"
   ]
  },
  {
   "cell_type": "code",
   "execution_count": 89,
   "id": "e1bc4f1c",
   "metadata": {},
   "outputs": [
    {
     "data": {
      "text/html": [
       "<div>\n",
       "<style scoped>\n",
       "    .dataframe tbody tr th:only-of-type {\n",
       "        vertical-align: middle;\n",
       "    }\n",
       "\n",
       "    .dataframe tbody tr th {\n",
       "        vertical-align: top;\n",
       "    }\n",
       "\n",
       "    .dataframe thead th {\n",
       "        text-align: right;\n",
       "    }\n",
       "</style>\n",
       "<table border=\"1\" class=\"dataframe\">\n",
       "  <thead>\n",
       "    <tr style=\"text-align: right;\">\n",
       "      <th></th>\n",
       "      <th>ID</th>\n",
       "      <th>date</th>\n",
       "      <th>warehouse_ID</th>\n",
       "      <th>Latitude</th>\n",
       "      <th>Longitude</th>\n",
       "      <th>Product_Type</th>\n",
       "      <th>year</th>\n",
       "      <th>month</th>\n",
       "      <th>is_warehouse_closed</th>\n",
       "      <th>daily_dispatch_count</th>\n",
       "      <th>weekly_dispatch_count</th>\n",
       "    </tr>\n",
       "  </thead>\n",
       "  <tbody>\n",
       "    <tr>\n",
       "      <th>14267</th>\n",
       "      <td>0x6f53</td>\n",
       "      <td>NaN</td>\n",
       "      <td>NaN</td>\n",
       "      <td>37.915825</td>\n",
       "      <td>-89.829262</td>\n",
       "      <td>2</td>\n",
       "      <td>2021</td>\n",
       "      <td>4</td>\n",
       "      <td>0.0</td>\n",
       "      <td>0.2</td>\n",
       "      <td>7.855</td>\n",
       "    </tr>\n",
       "    <tr>\n",
       "      <th>14268</th>\n",
       "      <td>0x74c8</td>\n",
       "      <td>NaN</td>\n",
       "      <td>NaN</td>\n",
       "      <td>48.692551</td>\n",
       "      <td>-116.319862</td>\n",
       "      <td>1</td>\n",
       "      <td>2021</td>\n",
       "      <td>4</td>\n",
       "      <td>0.0</td>\n",
       "      <td>12.3</td>\n",
       "      <td>67.975</td>\n",
       "    </tr>\n",
       "    <tr>\n",
       "      <th>14269</th>\n",
       "      <td>0x74c9</td>\n",
       "      <td>NaN</td>\n",
       "      <td>NaN</td>\n",
       "      <td>48.692551</td>\n",
       "      <td>-116.319862</td>\n",
       "      <td>2</td>\n",
       "      <td>2021</td>\n",
       "      <td>4</td>\n",
       "      <td>0.0</td>\n",
       "      <td>3.3</td>\n",
       "      <td>11.108</td>\n",
       "    </tr>\n",
       "    <tr>\n",
       "      <th>14270</th>\n",
       "      <td>0x794c</td>\n",
       "      <td>NaN</td>\n",
       "      <td>NaN</td>\n",
       "      <td>61.600803</td>\n",
       "      <td>-149.125259</td>\n",
       "      <td>1</td>\n",
       "      <td>2021</td>\n",
       "      <td>4</td>\n",
       "      <td>0.0</td>\n",
       "      <td>7.1</td>\n",
       "      <td>47.272</td>\n",
       "    </tr>\n",
       "    <tr>\n",
       "      <th>14271</th>\n",
       "      <td>0x794d</td>\n",
       "      <td>NaN</td>\n",
       "      <td>NaN</td>\n",
       "      <td>61.600803</td>\n",
       "      <td>-149.125259</td>\n",
       "      <td>2</td>\n",
       "      <td>2021</td>\n",
       "      <td>4</td>\n",
       "      <td>0.0</td>\n",
       "      <td>3.4</td>\n",
       "      <td>11.721</td>\n",
       "    </tr>\n",
       "  </tbody>\n",
       "</table>\n",
       "</div>"
      ],
      "text/plain": [
       "           ID date warehouse_ID   Latitude   Longitude  Product_Type  year  \\\n",
       "14267  0x6f53  NaN          NaN  37.915825  -89.829262             2  2021   \n",
       "14268  0x74c8  NaN          NaN  48.692551 -116.319862             1  2021   \n",
       "14269  0x74c9  NaN          NaN  48.692551 -116.319862             2  2021   \n",
       "14270  0x794c  NaN          NaN  61.600803 -149.125259             1  2021   \n",
       "14271  0x794d  NaN          NaN  61.600803 -149.125259             2  2021   \n",
       "\n",
       "       month  is_warehouse_closed  daily_dispatch_count  weekly_dispatch_count  \n",
       "14267      4                  0.0                   0.2                  7.855  \n",
       "14268      4                  0.0                  12.3                 67.975  \n",
       "14269      4                  0.0                   3.3                 11.108  \n",
       "14270      4                  0.0                   7.1                 47.272  \n",
       "14271      4                  0.0                   3.4                 11.721  "
      ]
     },
     "execution_count": 89,
     "metadata": {},
     "output_type": "execute_result"
    }
   ],
   "source": [
    "train_df2.tail()"
   ]
  },
  {
   "cell_type": "code",
   "execution_count": 85,
   "id": "8ab8d83b",
   "metadata": {},
   "outputs": [
    {
     "data": {
      "text/plain": [
       "(16644, 11)"
      ]
     },
     "execution_count": 85,
     "metadata": {},
     "output_type": "execute_result"
    }
   ],
   "source": [
    "train_df2.shape"
   ]
  },
  {
   "cell_type": "code",
   "execution_count": 90,
   "id": "5bd58994",
   "metadata": {},
   "outputs": [
    {
     "data": {
      "text/html": [
       "<div>\n",
       "<style scoped>\n",
       "    .dataframe tbody tr th:only-of-type {\n",
       "        vertical-align: middle;\n",
       "    }\n",
       "\n",
       "    .dataframe tbody tr th {\n",
       "        vertical-align: top;\n",
       "    }\n",
       "\n",
       "    .dataframe thead th {\n",
       "        text-align: right;\n",
       "    }\n",
       "</style>\n",
       "<table border=\"1\" class=\"dataframe\">\n",
       "  <thead>\n",
       "    <tr style=\"text-align: right;\">\n",
       "      <th></th>\n",
       "      <th>ID</th>\n",
       "      <th>date</th>\n",
       "      <th>warehouse_ID</th>\n",
       "      <th>Latitude</th>\n",
       "      <th>Longitude</th>\n",
       "      <th>Product_Type</th>\n",
       "      <th>year</th>\n",
       "      <th>month</th>\n",
       "      <th>is_weekend</th>\n",
       "      <th>is_warehouse_closed</th>\n",
       "    </tr>\n",
       "  </thead>\n",
       "  <tbody>\n",
       "    <tr>\n",
       "      <th>0</th>\n",
       "      <td>0x31fc</td>\n",
       "      <td>2021-05-01</td>\n",
       "      <td>WH_0x3e9</td>\n",
       "      <td>41.681471</td>\n",
       "      <td>NaN</td>\n",
       "      <td>Type_A</td>\n",
       "      <td>2021</td>\n",
       "      <td>May</td>\n",
       "      <td>NaN</td>\n",
       "      <td>No</td>\n",
       "    </tr>\n",
       "    <tr>\n",
       "      <th>1</th>\n",
       "      <td>0x31fd</td>\n",
       "      <td>2021-05-01</td>\n",
       "      <td>WH_0x3e9</td>\n",
       "      <td>41.681471</td>\n",
       "      <td>NaN</td>\n",
       "      <td>Type_B</td>\n",
       "      <td>2021</td>\n",
       "      <td>May</td>\n",
       "      <td>Yes</td>\n",
       "      <td>No</td>\n",
       "    </tr>\n",
       "    <tr>\n",
       "      <th>2</th>\n",
       "      <td>0x3ed2</td>\n",
       "      <td>2021-05-01</td>\n",
       "      <td>WH_0x3ea</td>\n",
       "      <td>38.749077</td>\n",
       "      <td>-105.183060</td>\n",
       "      <td>Type_A</td>\n",
       "      <td>2021</td>\n",
       "      <td>May</td>\n",
       "      <td>Yes</td>\n",
       "      <td>No</td>\n",
       "    </tr>\n",
       "    <tr>\n",
       "      <th>3</th>\n",
       "      <td>0x3ed3</td>\n",
       "      <td>2021-05-01</td>\n",
       "      <td>WH_0x3ea</td>\n",
       "      <td>38.749077</td>\n",
       "      <td>-105.183060</td>\n",
       "      <td>Type_B</td>\n",
       "      <td>2021</td>\n",
       "      <td>May</td>\n",
       "      <td>Yes</td>\n",
       "      <td>No</td>\n",
       "    </tr>\n",
       "    <tr>\n",
       "      <th>4</th>\n",
       "      <td>0x4a3a</td>\n",
       "      <td>2021-05-01</td>\n",
       "      <td>WH_0x3eb</td>\n",
       "      <td>35.678970</td>\n",
       "      <td>-109.067413</td>\n",
       "      <td>Type_A</td>\n",
       "      <td>2021</td>\n",
       "      <td>May</td>\n",
       "      <td>Yes</td>\n",
       "      <td>Yes</td>\n",
       "    </tr>\n",
       "  </tbody>\n",
       "</table>\n",
       "</div>"
      ],
      "text/plain": [
       "       ID        date warehouse_ID   Latitude   Longitude Product_Type  year  \\\n",
       "0  0x31fc  2021-05-01     WH_0x3e9  41.681471         NaN       Type_A  2021   \n",
       "1  0x31fd  2021-05-01     WH_0x3e9  41.681471         NaN       Type_B  2021   \n",
       "2  0x3ed2  2021-05-01     WH_0x3ea  38.749077 -105.183060       Type_A  2021   \n",
       "3  0x3ed3  2021-05-01     WH_0x3ea  38.749077 -105.183060       Type_B  2021   \n",
       "4  0x4a3a  2021-05-01     WH_0x3eb  35.678970 -109.067413       Type_A  2021   \n",
       "\n",
       "  month is_weekend is_warehouse_closed  \n",
       "0   May        NaN                  No  \n",
       "1   May        Yes                  No  \n",
       "2   May        Yes                  No  \n",
       "3   May        Yes                  No  \n",
       "4   May        Yes                 Yes  "
      ]
     },
     "execution_count": 90,
     "metadata": {},
     "output_type": "execute_result"
    }
   ],
   "source": [
    "test_df.head()"
   ]
  },
  {
   "cell_type": "code",
   "execution_count": 114,
   "id": "278e8cef",
   "metadata": {},
   "outputs": [
    {
     "data": {
      "text/plain": [
       "array([[ 4.1681471e+01, -7.2794746e+01,  1.0000000e+00,  2.0170000e+03,\n",
       "         1.0000000e+00,  0.0000000e+00],\n",
       "       [ 3.8749077e+01, -1.0518306e+02,  1.0000000e+00,  2.0170000e+03,\n",
       "         1.0000000e+00,  0.0000000e+00],\n",
       "       [ 4.1681471e+01, -7.2794746e+01,  1.0000000e+00,  2.0170000e+03,\n",
       "         1.0000000e+00,  0.0000000e+00],\n",
       "       [ 3.8749077e+01, -1.0518306e+02,  1.0000000e+00,  2.0170000e+03,\n",
       "         1.0000000e+00,  0.0000000e+00],\n",
       "       [ 4.1681471e+01, -7.2794746e+01,  1.0000000e+00,  2.0170000e+03,\n",
       "         1.0000000e+00,  0.0000000e+00]])"
      ]
     },
     "execution_count": 114,
     "metadata": {},
     "output_type": "execute_result"
    }
   ],
   "source": [
    "X = np.asarray(train_df2[['Latitude','Longitude','Product_Type','year','month','is_warehouse_closed']])\n",
    "X[0:5]"
   ]
  },
  {
   "cell_type": "code",
   "execution_count": 115,
   "id": "34c3023e",
   "metadata": {},
   "outputs": [
    {
     "data": {
      "text/plain": [
       "array([5.5, 6.1, 4.5, 6.5, 4.6])"
      ]
     },
     "execution_count": 115,
     "metadata": {},
     "output_type": "execute_result"
    }
   ],
   "source": [
    "y = np.asarray(train_df2['daily_dispatch_count'])\n",
    "y[0:5]"
   ]
  },
  {
   "cell_type": "code",
   "execution_count": 124,
   "id": "e2610437",
   "metadata": {},
   "outputs": [
    {
     "name": "stdout",
     "output_type": "stream",
     "text": [
      "<class 'pandas.core.frame.DataFrame'>\n",
      "Int64Index: 4900 entries, 0 to 4899\n",
      "Data columns (total 11 columns):\n",
      " #   Column                 Non-Null Count  Dtype  \n",
      "---  ------                 --------------  -----  \n",
      " 0   ID                     4900 non-null   object \n",
      " 1   date                   4900 non-null   object \n",
      " 2   warehouse_ID           4900 non-null   object \n",
      " 3   Latitude               4900 non-null   float64\n",
      " 4   Longitude              4900 non-null   float64\n",
      " 5   Product_Type           4900 non-null   int64  \n",
      " 6   year                   4900 non-null   int64  \n",
      " 7   month                  4900 non-null   int64  \n",
      " 8   is_warehouse_closed    4900 non-null   float64\n",
      " 9   daily_dispatch_count   0 non-null      float64\n",
      " 10  weekly_dispatch_count  0 non-null      float64\n",
      "dtypes: float64(5), int64(3), object(3)\n",
      "memory usage: 459.4+ KB\n"
     ]
    }
   ],
   "source": [
    "test_df.info()"
   ]
  },
  {
   "cell_type": "code",
   "execution_count": 117,
   "id": "9fe3bb36",
   "metadata": {},
   "outputs": [
    {
     "data": {
      "text/html": [
       "<div>\n",
       "<style scoped>\n",
       "    .dataframe tbody tr th:only-of-type {\n",
       "        vertical-align: middle;\n",
       "    }\n",
       "\n",
       "    .dataframe tbody tr th {\n",
       "        vertical-align: top;\n",
       "    }\n",
       "\n",
       "    .dataframe thead th {\n",
       "        text-align: right;\n",
       "    }\n",
       "</style>\n",
       "<table border=\"1\" class=\"dataframe\">\n",
       "  <thead>\n",
       "    <tr style=\"text-align: right;\">\n",
       "      <th></th>\n",
       "      <th>ID</th>\n",
       "      <th>date</th>\n",
       "      <th>warehouse_ID</th>\n",
       "      <th>Latitude</th>\n",
       "      <th>Longitude</th>\n",
       "      <th>Product_Type</th>\n",
       "      <th>year</th>\n",
       "      <th>month</th>\n",
       "      <th>is_weekend</th>\n",
       "      <th>is_warehouse_closed</th>\n",
       "      <th>daily_dispatch_count</th>\n",
       "      <th>weekly_dispatch_count</th>\n",
       "    </tr>\n",
       "  </thead>\n",
       "  <tbody>\n",
       "    <tr>\n",
       "      <th>0</th>\n",
       "      <td>0x31fc</td>\n",
       "      <td>2021-05-01</td>\n",
       "      <td>WH_0x3e9</td>\n",
       "      <td>41.681471</td>\n",
       "      <td>NaN</td>\n",
       "      <td>1</td>\n",
       "      <td>2021</td>\n",
       "      <td>5</td>\n",
       "      <td>NaN</td>\n",
       "      <td>0.0</td>\n",
       "      <td>NaN</td>\n",
       "      <td>NaN</td>\n",
       "    </tr>\n",
       "    <tr>\n",
       "      <th>1</th>\n",
       "      <td>0x31fd</td>\n",
       "      <td>2021-05-01</td>\n",
       "      <td>WH_0x3e9</td>\n",
       "      <td>41.681471</td>\n",
       "      <td>NaN</td>\n",
       "      <td>2</td>\n",
       "      <td>2021</td>\n",
       "      <td>5</td>\n",
       "      <td>1.0</td>\n",
       "      <td>0.0</td>\n",
       "      <td>NaN</td>\n",
       "      <td>NaN</td>\n",
       "    </tr>\n",
       "    <tr>\n",
       "      <th>2</th>\n",
       "      <td>0x3ed2</td>\n",
       "      <td>2021-05-01</td>\n",
       "      <td>WH_0x3ea</td>\n",
       "      <td>38.749077</td>\n",
       "      <td>-105.183060</td>\n",
       "      <td>1</td>\n",
       "      <td>2021</td>\n",
       "      <td>5</td>\n",
       "      <td>1.0</td>\n",
       "      <td>0.0</td>\n",
       "      <td>NaN</td>\n",
       "      <td>NaN</td>\n",
       "    </tr>\n",
       "    <tr>\n",
       "      <th>3</th>\n",
       "      <td>0x3ed3</td>\n",
       "      <td>2021-05-01</td>\n",
       "      <td>WH_0x3ea</td>\n",
       "      <td>38.749077</td>\n",
       "      <td>-105.183060</td>\n",
       "      <td>2</td>\n",
       "      <td>2021</td>\n",
       "      <td>5</td>\n",
       "      <td>1.0</td>\n",
       "      <td>0.0</td>\n",
       "      <td>NaN</td>\n",
       "      <td>NaN</td>\n",
       "    </tr>\n",
       "    <tr>\n",
       "      <th>4</th>\n",
       "      <td>0x4a3a</td>\n",
       "      <td>2021-05-01</td>\n",
       "      <td>WH_0x3eb</td>\n",
       "      <td>35.678970</td>\n",
       "      <td>-109.067413</td>\n",
       "      <td>1</td>\n",
       "      <td>2021</td>\n",
       "      <td>5</td>\n",
       "      <td>1.0</td>\n",
       "      <td>1.0</td>\n",
       "      <td>NaN</td>\n",
       "      <td>NaN</td>\n",
       "    </tr>\n",
       "  </tbody>\n",
       "</table>\n",
       "</div>"
      ],
      "text/plain": [
       "       ID        date warehouse_ID   Latitude   Longitude  Product_Type  year  \\\n",
       "0  0x31fc  2021-05-01     WH_0x3e9  41.681471         NaN             1  2021   \n",
       "1  0x31fd  2021-05-01     WH_0x3e9  41.681471         NaN             2  2021   \n",
       "2  0x3ed2  2021-05-01     WH_0x3ea  38.749077 -105.183060             1  2021   \n",
       "3  0x3ed3  2021-05-01     WH_0x3ea  38.749077 -105.183060             2  2021   \n",
       "4  0x4a3a  2021-05-01     WH_0x3eb  35.678970 -109.067413             1  2021   \n",
       "\n",
       "   month  is_weekend  is_warehouse_closed  daily_dispatch_count  \\\n",
       "0      5         NaN                  0.0                   NaN   \n",
       "1      5         1.0                  0.0                   NaN   \n",
       "2      5         1.0                  0.0                   NaN   \n",
       "3      5         1.0                  0.0                   NaN   \n",
       "4      5         1.0                  1.0                   NaN   \n",
       "\n",
       "   weekly_dispatch_count  \n",
       "0                    NaN  \n",
       "1                    NaN  \n",
       "2                    NaN  \n",
       "3                    NaN  \n",
       "4                    NaN  "
      ]
     },
     "execution_count": 117,
     "metadata": {},
     "output_type": "execute_result"
    }
   ],
   "source": [
    "test_df=final_df[final_df['ID'].isin(test_df['ID'])]\n",
    "test_df.head()"
   ]
  },
  {
   "cell_type": "code",
   "execution_count": 123,
   "id": "81293dc0",
   "metadata": {},
   "outputs": [
    {
     "data": {
      "text/plain": [
       "ID                          0\n",
       "date                        0\n",
       "warehouse_ID                0\n",
       "Latitude                    0\n",
       "Longitude                   0\n",
       "Product_Type                0\n",
       "year                        0\n",
       "month                       0\n",
       "is_warehouse_closed         0\n",
       "daily_dispatch_count     4900\n",
       "weekly_dispatch_count    4900\n",
       "dtype: int64"
      ]
     },
     "execution_count": 123,
     "metadata": {},
     "output_type": "execute_result"
    }
   ],
   "source": [
    "test_df.isnull().sum()"
   ]
  },
  {
   "cell_type": "code",
   "execution_count": 119,
   "id": "4ce7d1cd",
   "metadata": {},
   "outputs": [
    {
     "name": "stderr",
     "output_type": "stream",
     "text": [
      "c:\\users\\dell\\appdata\\local\\programs\\python\\python39\\lib\\site-packages\\pandas\\core\\frame.py:4906: SettingWithCopyWarning: \n",
      "A value is trying to be set on a copy of a slice from a DataFrame\n",
      "\n",
      "See the caveats in the documentation: https://pandas.pydata.org/pandas-docs/stable/user_guide/indexing.html#returning-a-view-versus-a-copy\n",
      "  return super().drop(\n"
     ]
    }
   ],
   "source": [
    "test_df.drop('is_weekend', inplace=True, axis=1)"
   ]
  },
  {
   "cell_type": "code",
   "execution_count": 120,
   "id": "bb183334",
   "metadata": {},
   "outputs": [
    {
     "name": "stderr",
     "output_type": "stream",
     "text": [
      "C:\\Users\\dell\\AppData\\Local\\Temp/ipykernel_24456/1074334015.py:1: SettingWithCopyWarning: \n",
      "A value is trying to be set on a copy of a slice from a DataFrame.\n",
      "Try using .loc[row_indexer,col_indexer] = value instead\n",
      "\n",
      "See the caveats in the documentation: https://pandas.pydata.org/pandas-docs/stable/user_guide/indexing.html#returning-a-view-versus-a-copy\n",
      "  test_df['Latitude']=test_df['Latitude'].fillna(0)\n"
     ]
    }
   ],
   "source": [
    "test_df['Latitude']=test_df['Latitude'].fillna(0)"
   ]
  },
  {
   "cell_type": "code",
   "execution_count": 121,
   "id": "62a1c219",
   "metadata": {},
   "outputs": [
    {
     "name": "stderr",
     "output_type": "stream",
     "text": [
      "C:\\Users\\dell\\AppData\\Local\\Temp/ipykernel_24456/462835554.py:1: SettingWithCopyWarning: \n",
      "A value is trying to be set on a copy of a slice from a DataFrame.\n",
      "Try using .loc[row_indexer,col_indexer] = value instead\n",
      "\n",
      "See the caveats in the documentation: https://pandas.pydata.org/pandas-docs/stable/user_guide/indexing.html#returning-a-view-versus-a-copy\n",
      "  test_df['Longitude']=test_df['Longitude'].fillna(0)\n"
     ]
    }
   ],
   "source": [
    "test_df['Longitude']=test_df['Longitude'].fillna(0)"
   ]
  },
  {
   "cell_type": "code",
   "execution_count": 122,
   "id": "a43a1883",
   "metadata": {},
   "outputs": [
    {
     "name": "stderr",
     "output_type": "stream",
     "text": [
      "C:\\Users\\dell\\AppData\\Local\\Temp/ipykernel_24456/3888483556.py:1: SettingWithCopyWarning: \n",
      "A value is trying to be set on a copy of a slice from a DataFrame.\n",
      "Try using .loc[row_indexer,col_indexer] = value instead\n",
      "\n",
      "See the caveats in the documentation: https://pandas.pydata.org/pandas-docs/stable/user_guide/indexing.html#returning-a-view-versus-a-copy\n",
      "  test_df['is_warehouse_closed']=test_df['is_warehouse_closed'].fillna(0)\n"
     ]
    }
   ],
   "source": [
    "test_df['is_warehouse_closed']=test_df['is_warehouse_closed'].fillna(0)"
   ]
  },
  {
   "cell_type": "code",
   "execution_count": 112,
   "id": "0fa9081d",
   "metadata": {},
   "outputs": [
    {
     "data": {
      "text/plain": [
       "RandomForestRegressor(max_depth=15, random_state=0)"
      ]
     },
     "execution_count": 112,
     "metadata": {},
     "output_type": "execute_result"
    }
   ],
   "source": [
    "#Making the predictions using Random Forest Regression model\n",
    "RFregr.fit(X, y)"
   ]
  },
  {
   "cell_type": "code",
   "execution_count": 125,
   "id": "5ed93017",
   "metadata": {},
   "outputs": [],
   "source": [
    "df = np.asarray(test_df[['Latitude','Longitude','Product_Type','year','month','is_warehouse_closed']])"
   ]
  },
  {
   "cell_type": "code",
   "execution_count": 126,
   "id": "72e02b4c",
   "metadata": {},
   "outputs": [
    {
     "data": {
      "text/plain": [
       "array([5.23819669, 1.55776149, 6.41894079, 2.21940704, 0.        ])"
      ]
     },
     "execution_count": 126,
     "metadata": {},
     "output_type": "execute_result"
    }
   ],
   "source": [
    "#Predicting the daily_dispatch_count in test data using RF regressor built\n",
    "yhat = RFregr.predict(df)\n",
    "yhat[0:5]"
   ]
  },
  {
   "cell_type": "code",
   "execution_count": 127,
   "id": "ae86f30f",
   "metadata": {},
   "outputs": [],
   "source": [
    "new_df = pd.DataFrame(yhat,columns = ['daily_dispatch_count'])"
   ]
  },
  {
   "cell_type": "code",
   "execution_count": 130,
   "id": "9ad15c6f",
   "metadata": {},
   "outputs": [],
   "source": [
    "new_df[['Latitude','Longitude','Product_Type','year','month','is_warehouse_closed']]=test_df[['Latitude','Longitude','Product_Type','year','month','is_warehouse_closed']]"
   ]
  },
  {
   "cell_type": "code",
   "execution_count": 135,
   "id": "3bd8c161",
   "metadata": {},
   "outputs": [
    {
     "data": {
      "text/html": [
       "<div>\n",
       "<style scoped>\n",
       "    .dataframe tbody tr th:only-of-type {\n",
       "        vertical-align: middle;\n",
       "    }\n",
       "\n",
       "    .dataframe tbody tr th {\n",
       "        vertical-align: top;\n",
       "    }\n",
       "\n",
       "    .dataframe thead th {\n",
       "        text-align: right;\n",
       "    }\n",
       "</style>\n",
       "<table border=\"1\" class=\"dataframe\">\n",
       "  <thead>\n",
       "    <tr style=\"text-align: right;\">\n",
       "      <th></th>\n",
       "      <th>ID</th>\n",
       "      <th>Latitude</th>\n",
       "      <th>Longitude</th>\n",
       "      <th>Product_Type</th>\n",
       "      <th>year</th>\n",
       "      <th>month</th>\n",
       "      <th>is_warehouse_closed</th>\n",
       "      <th>daily_dispatch_count</th>\n",
       "    </tr>\n",
       "  </thead>\n",
       "  <tbody>\n",
       "    <tr>\n",
       "      <th>0</th>\n",
       "      <td>0x31fc</td>\n",
       "      <td>41.681471</td>\n",
       "      <td>0.000000</td>\n",
       "      <td>1</td>\n",
       "      <td>2021</td>\n",
       "      <td>5</td>\n",
       "      <td>0.0</td>\n",
       "      <td>5.238197</td>\n",
       "    </tr>\n",
       "    <tr>\n",
       "      <th>1</th>\n",
       "      <td>0x31fd</td>\n",
       "      <td>41.681471</td>\n",
       "      <td>0.000000</td>\n",
       "      <td>2</td>\n",
       "      <td>2021</td>\n",
       "      <td>5</td>\n",
       "      <td>0.0</td>\n",
       "      <td>1.557761</td>\n",
       "    </tr>\n",
       "    <tr>\n",
       "      <th>2</th>\n",
       "      <td>0x3ed2</td>\n",
       "      <td>38.749077</td>\n",
       "      <td>-105.183060</td>\n",
       "      <td>1</td>\n",
       "      <td>2021</td>\n",
       "      <td>5</td>\n",
       "      <td>0.0</td>\n",
       "      <td>6.418941</td>\n",
       "    </tr>\n",
       "    <tr>\n",
       "      <th>3</th>\n",
       "      <td>0x3ed3</td>\n",
       "      <td>38.749077</td>\n",
       "      <td>-105.183060</td>\n",
       "      <td>2</td>\n",
       "      <td>2021</td>\n",
       "      <td>5</td>\n",
       "      <td>0.0</td>\n",
       "      <td>2.219407</td>\n",
       "    </tr>\n",
       "    <tr>\n",
       "      <th>4</th>\n",
       "      <td>0x4a3a</td>\n",
       "      <td>35.678970</td>\n",
       "      <td>-109.067413</td>\n",
       "      <td>1</td>\n",
       "      <td>2021</td>\n",
       "      <td>5</td>\n",
       "      <td>1.0</td>\n",
       "      <td>0.000000</td>\n",
       "    </tr>\n",
       "  </tbody>\n",
       "</table>\n",
       "</div>"
      ],
      "text/plain": [
       "       ID   Latitude   Longitude  Product_Type  year  month  \\\n",
       "0  0x31fc  41.681471    0.000000             1  2021      5   \n",
       "1  0x31fd  41.681471    0.000000             2  2021      5   \n",
       "2  0x3ed2  38.749077 -105.183060             1  2021      5   \n",
       "3  0x3ed3  38.749077 -105.183060             2  2021      5   \n",
       "4  0x4a3a  35.678970 -109.067413             1  2021      5   \n",
       "\n",
       "   is_warehouse_closed  daily_dispatch_count  \n",
       "0                  0.0              5.238197  \n",
       "1                  0.0              1.557761  \n",
       "2                  0.0              6.418941  \n",
       "3                  0.0              2.219407  \n",
       "4                  1.0              0.000000  "
      ]
     },
     "execution_count": 135,
     "metadata": {},
     "output_type": "execute_result"
    }
   ],
   "source": [
    "new_df.head()"
   ]
  },
  {
   "cell_type": "code",
   "execution_count": 134,
   "id": "b94fa009",
   "metadata": {},
   "outputs": [],
   "source": [
    "new_df=new_df.reindex(columns=['ID','Latitude','Longitude','Product_Type','year','month','is_warehouse_closed','daily_dispatch_count'])"
   ]
  },
  {
   "cell_type": "code",
   "execution_count": 137,
   "id": "82dff711",
   "metadata": {},
   "outputs": [
    {
     "data": {
      "text/plain": [
       "array([[ 4.1681471e+01, -7.2794746e+01,  1.0000000e+00,  2.0170000e+03,\n",
       "         1.0000000e+00,  0.0000000e+00,  5.5000000e+00],\n",
       "       [ 3.8749077e+01, -1.0518306e+02,  1.0000000e+00,  2.0170000e+03,\n",
       "         1.0000000e+00,  0.0000000e+00,  6.1000000e+00],\n",
       "       [ 4.1681471e+01, -7.2794746e+01,  1.0000000e+00,  2.0170000e+03,\n",
       "         1.0000000e+00,  0.0000000e+00,  4.5000000e+00],\n",
       "       [ 3.8749077e+01, -1.0518306e+02,  1.0000000e+00,  2.0170000e+03,\n",
       "         1.0000000e+00,  0.0000000e+00,  6.5000000e+00],\n",
       "       [ 4.1681471e+01, -7.2794746e+01,  1.0000000e+00,  2.0170000e+03,\n",
       "         1.0000000e+00,  0.0000000e+00,  4.6000000e+00]])"
      ]
     },
     "execution_count": 137,
     "metadata": {},
     "output_type": "execute_result"
    }
   ],
   "source": [
    "X = np.asarray(train_df2[['Latitude','Longitude','Product_Type','year','month','is_warehouse_closed','daily_dispatch_count']])\n",
    "X[0:5]"
   ]
  },
  {
   "cell_type": "code",
   "execution_count": 138,
   "id": "967ff6df",
   "metadata": {},
   "outputs": [
    {
     "data": {
      "text/plain": [
       "array([ 5.5,  6.1, 37.1, 48.3, 37.5])"
      ]
     },
     "execution_count": 138,
     "metadata": {},
     "output_type": "execute_result"
    }
   ],
   "source": [
    "y = np.asarray(train_df2['weekly_dispatch_count'])\n",
    "y[0:5]"
   ]
  },
  {
   "cell_type": "code",
   "execution_count": 139,
   "id": "99a3168f",
   "metadata": {},
   "outputs": [
    {
     "data": {
      "text/plain": [
       "RandomForestRegressor(max_depth=15, random_state=0)"
      ]
     },
     "execution_count": 139,
     "metadata": {},
     "output_type": "execute_result"
    }
   ],
   "source": [
    "#Making the predictions using Random Forest Regression model\n",
    "RFregr.fit(X, y)"
   ]
  },
  {
   "cell_type": "code",
   "execution_count": 140,
   "id": "96590b14",
   "metadata": {},
   "outputs": [],
   "source": [
    "df = np.asarray(new_df[['Latitude','Longitude','Product_Type','year','month','is_warehouse_closed','daily_dispatch_count']])"
   ]
  },
  {
   "cell_type": "code",
   "execution_count": 141,
   "id": "f16b3b9d",
   "metadata": {},
   "outputs": [
    {
     "data": {
      "text/plain": [
       "array([25.3954295 , 10.99488917, 41.27021   , 10.26568285, 28.26557517])"
      ]
     },
     "execution_count": 141,
     "metadata": {},
     "output_type": "execute_result"
    }
   ],
   "source": [
    "#Predicting the weekly_dispatch_count in test data using RF regressor built\n",
    "yhat = RFregr.predict(df)\n",
    "yhat[0:5]"
   ]
  },
  {
   "cell_type": "code",
   "execution_count": 142,
   "id": "d73fb275",
   "metadata": {},
   "outputs": [],
   "source": [
    "new_df = pd.DataFrame(yhat,columns = ['weekly_dispatch_count'])"
   ]
  },
  {
   "cell_type": "code",
   "execution_count": 152,
   "id": "ca28e8e1",
   "metadata": {},
   "outputs": [
    {
     "data": {
      "text/plain": [
       "(700, 2)"
      ]
     },
     "execution_count": 152,
     "metadata": {},
     "output_type": "execute_result"
    }
   ],
   "source": [
    "new_df.shape"
   ]
  },
  {
   "cell_type": "code",
   "execution_count": 144,
   "id": "5eb4070c",
   "metadata": {},
   "outputs": [],
   "source": [
    "new_df['ID']=test_df['ID']"
   ]
  },
  {
   "cell_type": "code",
   "execution_count": 150,
   "id": "860e3194",
   "metadata": {},
   "outputs": [
    {
     "data": {
      "text/html": [
       "<div>\n",
       "<style scoped>\n",
       "    .dataframe tbody tr th:only-of-type {\n",
       "        vertical-align: middle;\n",
       "    }\n",
       "\n",
       "    .dataframe tbody tr th {\n",
       "        vertical-align: top;\n",
       "    }\n",
       "\n",
       "    .dataframe thead th {\n",
       "        text-align: right;\n",
       "    }\n",
       "</style>\n",
       "<table border=\"1\" class=\"dataframe\">\n",
       "  <thead>\n",
       "    <tr style=\"text-align: right;\">\n",
       "      <th></th>\n",
       "      <th>ID</th>\n",
       "      <th>weekly_dispatch_count</th>\n",
       "    </tr>\n",
       "  </thead>\n",
       "  <tbody>\n",
       "    <tr>\n",
       "      <th>0</th>\n",
       "      <td>0x31fc</td>\n",
       "      <td>25.395429</td>\n",
       "    </tr>\n",
       "    <tr>\n",
       "      <th>1</th>\n",
       "      <td>0x31fd</td>\n",
       "      <td>10.994889</td>\n",
       "    </tr>\n",
       "    <tr>\n",
       "      <th>2</th>\n",
       "      <td>0x3ed2</td>\n",
       "      <td>41.270210</td>\n",
       "    </tr>\n",
       "    <tr>\n",
       "      <th>3</th>\n",
       "      <td>0x3ed3</td>\n",
       "      <td>10.265683</td>\n",
       "    </tr>\n",
       "    <tr>\n",
       "      <th>4</th>\n",
       "      <td>0x4a3a</td>\n",
       "      <td>28.265575</td>\n",
       "    </tr>\n",
       "  </tbody>\n",
       "</table>\n",
       "</div>"
      ],
      "text/plain": [
       "       ID  weekly_dispatch_count\n",
       "0  0x31fc              25.395429\n",
       "1  0x31fd              10.994889\n",
       "2  0x3ed2              41.270210\n",
       "3  0x3ed3              10.265683\n",
       "4  0x4a3a              28.265575"
      ]
     },
     "execution_count": 150,
     "metadata": {},
     "output_type": "execute_result"
    }
   ],
   "source": [
    "new_df=new_df.reindex(columns=['ID','weekly_dispatch_count'])\n",
    "\n",
    "new_df.head()"
   ]
  },
  {
   "cell_type": "code",
   "execution_count": 151,
   "id": "dcb9da5e",
   "metadata": {},
   "outputs": [],
   "source": [
    "new_df=new_df[:700]"
   ]
  },
  {
   "cell_type": "code",
   "execution_count": 153,
   "id": "09d5278c",
   "metadata": {},
   "outputs": [],
   "source": [
    "#Writing the output to a .csv file\n",
    "new_df.to_csv('submission_weekly.csv',index=False)"
   ]
  }
 ],
 "metadata": {
  "kernelspec": {
   "display_name": "Python 3 (ipykernel)",
   "language": "python",
   "name": "python3"
  },
  "language_info": {
   "codemirror_mode": {
    "name": "ipython",
    "version": 3
   },
   "file_extension": ".py",
   "mimetype": "text/x-python",
   "name": "python",
   "nbconvert_exporter": "python",
   "pygments_lexer": "ipython3",
   "version": "3.9.2"
  }
 },
 "nbformat": 4,
 "nbformat_minor": 5
}
